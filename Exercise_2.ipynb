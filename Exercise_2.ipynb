{
 "cells": [
  {
   "cell_type": "markdown",
   "metadata": {
    "id": "iJ0ZKrDxffoG"
   },
   "source": [
    "#**Importing Necessary Libraries**"
   ]
  },
  {
   "cell_type": "code",
   "execution_count": null,
   "metadata": {
    "executionInfo": {
     "elapsed": 511,
     "status": "ok",
     "timestamp": 1684477349636,
     "user": {
      "displayName": "KARNATI MOHAN",
      "userId": "16604712269571437600"
     },
     "user_tz": -330
    },
    "id": "JuKSi3EJyGb-"
   },
   "outputs": [],
   "source": [
    "import numpy as np\n",
    "import pandas as pd"
   ]
  },
  {
   "cell_type": "markdown",
   "metadata": {
    "id": "92epT7aZgF74"
   },
   "source": [
    "#**Loading the Churn Dataset**\n",
    "\n",
    "This data set contains details of a bank's customers and the target variable is a binary variable reflecting the fact whether the customer left the bank (closed his account) or he continues to be a customer.\n",
    "\n",
    "**Binary flag 1 if the customer closed account with bank and 0 if the customer is retained.**"
   ]
  },
  {
   "cell_type": "code",
   "execution_count": null,
   "metadata": {
    "colab": {
     "base_uri": "https://localhost:8080/",
     "height": 270
    },
    "executionInfo": {
     "elapsed": 1836,
     "status": "ok",
     "timestamp": 1684477355453,
     "user": {
      "displayName": "KARNATI MOHAN",
      "userId": "16604712269571437600"
     },
     "user_tz": -330
    },
    "id": "mslwX-u6eqdi",
    "outputId": "4dda9166-665f-4c1b-8d22-28aae7f18477"
   },
   "outputs": [],
   "source": [
    "churn_data = pd.read_csv('bird.csv', delimiter = ',')\n",
    "churn_data.head(5)"
   ]
  },
  {
   "cell_type": "markdown",
   "metadata": {
    "id": "TgacS0JggQgr"
   },
   "source": [
    "#**Accessing the Column Names in the Dataset**"
   ]
  },
  {
   "cell_type": "code",
   "execution_count": null,
   "metadata": {
    "colab": {
     "base_uri": "https://localhost:8080/"
    },
    "executionInfo": {
     "elapsed": 1155,
     "status": "ok",
     "timestamp": 1684477365708,
     "user": {
      "displayName": "KARNATI MOHAN",
      "userId": "16604712269571437600"
     },
     "user_tz": -330
    },
    "id": "hqRcQ0jffWS6",
    "outputId": "1943e6fe-ddfd-493d-e0dd-45db0ca2b01c"
   },
   "outputs": [],
   "source": [
    "churn_data.columns"
   ]
  },
  {
   "cell_type": "markdown",
   "metadata": {
    "id": "-7n0cCvjgYdA"
   },
   "source": [
    "#**Setting Column as a Index**"
   ]
  },
  {
   "cell_type": "code",
   "execution_count": null,
   "metadata": {
    "colab": {
     "base_uri": "https://localhost:8080/",
     "height": 301
    },
    "executionInfo": {
     "elapsed": 6,
     "status": "ok",
     "timestamp": 1684477367517,
     "user": {
      "displayName": "KARNATI MOHAN",
      "userId": "16604712269571437600"
     },
     "user_tz": -330
    },
    "id": "uHyanSIie5Xx",
    "outputId": "caf9f81c-745f-4d92-b221-494a87241543"
   },
   "outputs": [],
   "source": [
    "churn_data = churn_data.set_index('RowNumber')\n",
    "churn_data.head()"
   ]
  },
  {
   "cell_type": "markdown",
   "metadata": {
    "id": "WbWc384ZgkNk"
   },
   "source": [
    "#**Finding the Shape of the Dataset**"
   ]
  },
  {
   "cell_type": "code",
   "execution_count": null,
   "metadata": {
    "colab": {
     "base_uri": "https://localhost:8080/"
    },
    "executionInfo": {
     "elapsed": 482,
     "status": "ok",
     "timestamp": 1684477375800,
     "user": {
      "displayName": "KARNATI MOHAN",
      "userId": "16604712269571437600"
     },
     "user_tz": -330
    },
    "id": "v3r-6BsCfO6O",
    "outputId": "7b1e67ef-73e9-415d-ffbb-a050b179d040"
   },
   "outputs": [],
   "source": [
    "churn_data.shape"
   ]
  },
  {
   "cell_type": "code",
   "execution_count": null,
   "metadata": {
    "colab": {
     "base_uri": "https://localhost:8080/"
    },
    "executionInfo": {
     "elapsed": 710,
     "status": "ok",
     "timestamp": 1684477382664,
     "user": {
      "displayName": "KARNATI MOHAN",
      "userId": "16604712269571437600"
     },
     "user_tz": -330
    },
    "id": "DR5iJOoggqVl",
    "outputId": "fe4fb80b-a185-4fbc-d49e-af80f2530430"
   },
   "outputs": [],
   "source": [
    "churn_data.info()"
   ]
  },
  {
   "cell_type": "markdown",
   "metadata": {
    "id": "MOi7okQ_tQrB"
   },
   "source": [
    "#**Checking Missing Values**"
   ]
  },
  {
   "cell_type": "code",
   "execution_count": null,
   "metadata": {
    "colab": {
     "base_uri": "https://localhost:8080/"
    },
    "executionInfo": {
     "elapsed": 720,
     "status": "ok",
     "timestamp": 1684477390396,
     "user": {
      "displayName": "KARNATI MOHAN",
      "userId": "16604712269571437600"
     },
     "user_tz": -330
    },
    "id": "3XbsLJg0tN-L",
    "outputId": "cb606d9a-cbac-4c4f-dc32-70099bdf98f0"
   },
   "outputs": [],
   "source": [
    "churn_data.isna().sum()"
   ]
  },
  {
   "cell_type": "markdown",
   "metadata": {
    "id": "gL5klaMFg4U0"
   },
   "source": [
    "# **Some Columns are Totally Unproductive so let's Remove them**"
   ]
  },
  {
   "cell_type": "code",
   "execution_count": null,
   "metadata": {
    "id": "yNjlTn9yhJtA"
   },
   "outputs": [],
   "source": [
    "churn_data.nunique()"
   ]
  },
  {
   "cell_type": "code",
   "execution_count": null,
   "metadata": {
    "id": "tju6nHUMg3m-"
   },
   "outputs": [],
   "source": [
    "churn_data.drop(['CustomerId','Surname'],axis=1,inplace=True)"
   ]
  },
  {
   "cell_type": "code",
   "execution_count": null,
   "metadata": {
    "colab": {
     "base_uri": "https://localhost:8080/",
     "height": 237
    },
    "executionInfo": {
     "elapsed": 9,
     "status": "ok",
     "timestamp": 1682924847763,
     "user": {
      "displayName": "KARNATI MOHAN",
      "userId": "16604712269571437600"
     },
     "user_tz": -330
    },
    "id": "PCjSyDI1hW1Z",
    "outputId": "12d527f4-e3d2-4460-e9a0-c06a4c44efd4"
   },
   "outputs": [],
   "source": [
    "churn_data.head()"
   ]
  },
  {
   "cell_type": "code",
   "execution_count": null,
   "metadata": {
    "colab": {
     "base_uri": "https://localhost:8080/"
    },
    "executionInfo": {
     "elapsed": 6,
     "status": "ok",
     "timestamp": 1682924847763,
     "user": {
      "displayName": "KARNATI MOHAN",
      "userId": "16604712269571437600"
     },
     "user_tz": -330
    },
    "id": "tBV6ed5GhamH",
    "outputId": "5ca37817-e894-4cb1-d11e-f6cd0dbe1220"
   },
   "outputs": [],
   "source": [
    "churn_data.shape"
   ]
  },
  {
   "cell_type": "markdown",
   "metadata": {
    "id": "7qf_YPYPidd5"
   },
   "source": [
    "# **Label Encoding of Categorical Variables**\n",
    "\n",
    "Label Encoding means converting categorical features into numerical values. So that they can be fitted by machine learning models which only take numerical data.\n",
    "\n",
    "**Example:** Suppose we have a column Height in some dataset that has elements as Tall, Medium, and short. To convert this categorical column into a numerical column we will apply label encoding to this column. After applying label encoding, the Height column is converted into a numerical column having elements 0,1, and 2 where 0 is the label for tall, 1 is the label for medium, and 2 is the label for short height."
   ]
  },
  {
   "cell_type": "code",
   "execution_count": null,
   "metadata": {
    "id": "G-vFcbdRif2q"
   },
   "outputs": [],
   "source": [
    "from sklearn.preprocessing import LabelEncoder\n",
    "le = LabelEncoder()\n",
    "churn_data[['Geography', 'Gender']] = churn_data[['Geography', 'Gender']].apply(le.fit_transform)"
   ]
  },
  {
   "cell_type": "code",
   "execution_count": null,
   "metadata": {
    "colab": {
     "base_uri": "https://localhost:8080/",
     "height": 237
    },
    "executionInfo": {
     "elapsed": 10,
     "status": "ok",
     "timestamp": 1682924862810,
     "user": {
      "displayName": "KARNATI MOHAN",
      "userId": "16604712269571437600"
     },
     "user_tz": -330
    },
    "id": "t6TzxVDqija9",
    "outputId": "481b91ee-6af2-475c-ee5d-8ed199aa5be5"
   },
   "outputs": [],
   "source": [
    "churn_data.head()"
   ]
  },
  {
   "cell_type": "markdown",
   "metadata": {
    "id": "RBhC2pV6kG-m"
   },
   "source": [
    "#**Seperating Label from Data**"
   ]
  },
  {
   "cell_type": "code",
   "execution_count": null,
   "metadata": {
    "id": "CU-h5H-vilid"
   },
   "outputs": [],
   "source": [
    "y = churn_data.Ex   ited\n",
    "X = churn_data.drop(['Exited'],axis=1)"
   ]
  },
  {
   "cell_type": "code",
   "execution_count": null,
   "metadata": {
    "colab": {
     "base_uri": "https://localhost:8080/"
    },
    "executionInfo": {
     "elapsed": 9,
     "status": "ok",
     "timestamp": 1682924862810,
     "user": {
      "displayName": "KARNATI MOHAN",
      "userId": "16604712269571437600"
     },
     "user_tz": -330
    },
    "id": "doNxQbxXkrXv",
    "outputId": "68de4724-47ae-4da1-d6b0-14ba46802212"
   },
   "outputs": [],
   "source": [
    "X.columns"
   ]
  },
  {
   "cell_type": "code",
   "execution_count": null,
   "metadata": {
    "colab": {
     "base_uri": "https://localhost:8080/"
    },
    "executionInfo": {
     "elapsed": 8,
     "status": "ok",
     "timestamp": 1682924862811,
     "user": {
      "displayName": "KARNATI MOHAN",
      "userId": "16604712269571437600"
     },
     "user_tz": -330
    },
    "id": "JxmY3LYgksbe",
    "outputId": "af2c46eb-0257-4cc6-e0d9-e4e0adc8317d"
   },
   "outputs": [],
   "source": [
    "y"
   ]
  },
  {
   "cell_type": "markdown",
   "metadata": {
    "id": "OB8cY_fNk2KG"
   },
   "source": [
    "#**Splitting the Data into Training and Testing**"
   ]
  },
  {
   "cell_type": "code",
   "execution_count": null,
   "metadata": {
    "id": "ONhh9fw5kunZ"
   },
   "outputs": [],
   "source": [
    "from sklearn.model_selection import train_test_split\n",
    "X_train, X_test, y_train, y_test = train_test_split(X, y, test_size = 0.3, random_state = 42)"
   ]
  },
  {
   "cell_type": "code",
   "execution_count": null,
   "metadata": {
    "colab": {
     "base_uri": "https://localhost:8080/"
    },
    "executionInfo": {
     "elapsed": 2,
     "status": "ok",
     "timestamp": 1682924864767,
     "user": {
      "displayName": "KARNATI MOHAN",
      "userId": "16604712269571437600"
     },
     "user_tz": -330
    },
    "id": "n7QUNsrflJyd",
    "outputId": "8f2c74b8-5013-4fa1-98fc-c836e15f993e"
   },
   "outputs": [],
   "source": [
    "print(\"Shape of the X_train\", X_train.shape)\n",
    "print(\"Shape of the X_test\", X_test.shape)\n",
    "print(\"Shape of the y_train\", y_train.shape)\n",
    "print(\"Shape of the y_test\", y_test.shape)"
   ]
  },
  {
   "cell_type": "markdown",
   "metadata": {
    "id": "qRe4F-ZllGU0"
   },
   "source": [
    "/workspace/aayush/dataset/Churn_Modelling.csv\n",
    "700/700 [==============================] - 1s 926us/step - loss: 0.4826 - accuracy: 0.7924\n",
    "700/700 [==============================] - 1s 926us/step - loss: 0.4826 - accuracy: 0.7924# **Feature Scaling:**\n",
    "The result of **standardization** (or **Z-Score normalization**) is that the features will be re scaled so that they'll have the properties of a standard normal distribution with: \n",
    "$$\\mu = 0$$\n",
    "And\n",
    "$$\\sigma = 1$$\n",
    "\n",
    "Where $\\mu$ is the mean(average) and $\\sigma$ is the standard deviation from the mean; standard scores (also called **Z** scores) of the sampels are calculated as follows: \n",
    "$$z = \\frac{x - \\mu}{\\sigma}$$\n",
    "\n",
    "***\n",
    "\n",
    "# **About Min-Max Scaling**\n",
    "\n",
    "An alternative approach to **Z-Score** normalization (or called standardization) is the so-called **Min-Max Scaling** (often also simply called **Normalization** - a common cause for ambiguities)\n",
    "\n",
    "In this approach, the data is scaled to a fixed range - usually `[0, 1]`. \n",
    "The cost of having this bounded range - in contrast to standrdization - is that we will end up with smaaller standard deviations, which can suppress the effect of outliers. \n",
    "\n",
    "**Note**:\n",
    "\n",
    "If the dataset have lot's of outliers, and the algorithms are sensitive to outliers, please use `Min-Max Scaler`\n",
    "\n",
    "A `Min-Max Scaling` is typically done via the foloowing equation: \n",
    "\n",
    "$$X_{norm} = \\frac{X_{i} - X_{min}}{X_{max} - X_{min}}$$\n",
    "\n",
    "$X_i$ is the $i^{th}$ sample of dataset. \n",
    "\n",
    "\n",
    "# **Z-Score Standardization or Min-Max Scaling**\n",
    "\n",
    "\"Standardization or Min-Max scaling\"? - There is no obvious answer to this question: it really depends on the application. \n",
    "\n",
    "However this doesn't mean that `Min-Max Scaling` is not useful at all, A popular application is `image processing`, where pixel intensities have to be normalized to fit withint a certain range (i.e., `[0, 255]` for the RGB colour range). Also, typical _Neural Network_ Algorithm require data that on a `0 - 1` scale. "
   ]
  },
  {
   "cell_type": "markdown",
   "metadata": {
    "id": "pygvgWtSPv2S"
   },
   "source": [
    "#**Need for Normalization**\n",
    "For example, consider a data set containing two features, age(x1), and income(x2). Where age ranges from 0–100, while income ranges from 0–20,000 and higher. Income is about 1,000 times larger than age and ranges from 20,000–500,000. So, these two features are in very different ranges. When we do further analysis, like multivariate linear regression, for example, the attributed income will intrinsically influence the result more due to its larger value. But this doesn’t necessarily mean it is more important as a predictor."
   ]
  },
  {
   "cell_type": "code",
   "execution_count": null,
   "metadata": {
    "id": "0tJwn52Wk9ty"
   },
   "outputs": [],
   "source": [
    "from sklearn.preprocessing import StandardScaler\n",
    "sc = StandardScaler()\n",
    "X_train = sc.fit_transform(X_train)\n",
    "X_test = sc.transform(X_test)"
   ]
  },
  {
   "cell_type": "markdown",
   "metadata": {
    "id": "N-18bjO3rOHB"
   },
   "source": [
    "#**Building the ANN Model**"
   ]
  },
  {
   "cell_type": "code",
   "execution_count": null,
   "metadata": {
    "id": "lYWxtWt4lwsa"
   },
   "outputs": [],
   "source": [
    "# sequential model to initialise our ann and dense module to build the layers\n",
    "from keras.models import Sequential\n",
    "from keras.layers import Dense"
   ]
  },
  {
   "cell_type": "code",
   "execution_count": null,
   "metadata": {
    "id": "5SHVdj9Xl6se"
   },
   "outputs": [],
   "source": [
    "classifier = Sequential()\n",
    "# Adding the input layer and the first hidden layer\n",
    "classifier.add(Dense(units = 8, kernel_initializer = 'uniform', activation = 'relu', input_dim = 10))\n",
    "\n",
    "# Adding the second hidden layer\n",
    "classifier.add(Dense(units = 16, kernel_initializer = 'uniform', activation = 'relu'))\n",
    "\n",
    "classifier.add(Dense(units = 16, kernel_initializer = 'uniform', activation = 'relu'))\n",
    "\n",
    "\n",
    "# Adding the output layer\n",
    "classifier.add(Dense(units = 1, kernel_initializer = 'uniform', activation = 'sigmoid'))"
   ]
  },
  {
   "cell_type": "markdown",
   "metadata": {
    "id": "MDjrKcLnrSw0"
   },
   "source": [
    "/workspace/aayush/dataset/Churn_Modelling.csv# **Compiling and Fitting the Model**"
   ]
  },
  {
   "cell_type": "code",
   "execution_count": null,
   "metadata": {
    "colab": {
     "base_uri": "https://localhost:8080/"
    },
    "executionInfo": {
     "elapsed": 227819,
     "status": "ok",
     "timestamp": 1682925101166,
     "user": {
      "displayName": "KARNATI MOHAN",
      "userId": "16604712269571437600"
     },
     "user_tz": -330
    },
    "id": "RRtVuxFumFcS",
    "outputId": "9fc4f272-5ecb-4994-ad94-35a3c2ba0d3a"
   },
   "outputs": [],
   "source": [
    "classifier.compile(optimizer = 'adam', loss = 'binary_crossentropy', metrics = ['accuracy'])\n",
    "\n",
    "# Fitting the ANN to the Training set\n",
    "classifier.fit(X_train, y_train, batch_size = 10, epochs = 150, verbose = 1)"
   ]
  },
  {
   "cell_type": "markdown",
   "metadata": {
    "id": "55PgRgP0rZ8A"
   },
   "source": [
    "#**Testing the Model**"
   ]
  },
  {
   "cell_type": "code",
   "execution_count": null,
   "metadata": {
    "colab": {
     "base_uri": "https://localhost:8080/"
    },
    "executionInfo": {
     "elapsed": 6109,
     "status": "ok",
     "timestamp": 1682925107259,
     "user": {
      "displayName": "KARNATI MOHAN",
      "userId": "16604712269571437600"
     },
     "user_tz": -330
    },
    "id": "VPqoEf0VmVx0",
    "outputId": "3e4c98e0-d758-4f4c-819d-37bc01c7bfed"
   },
   "outputs": [],
   "source": [
    "score, acc = classifier.evaluate(X_train, y_train,\n",
    "                            batch_size=10)\n",
    "print('Train score:', score)\n",
    "print('Train accuracy:', acc)\n",
    "\n",
    "# Predicting the Test set results\n",
    "y_pred = classifier.predict(X_test)\n",
    "y_pred = (y_pred > 0.5)\n",
    "\n",
    "print('*'*20)\n",
    "score, acc = classifier.evaluate(X_test, y_test,\n",
    "                            batch_size=10)\n",
    "print('Test score:', score)\n",
    "print('Test accuracy:', acc)"
   ]
  },
  {
   "cell_type": "markdown",
   "metadata": {
    "id": "zLS1Qv2Yrfj4"
   },
   "source": [
    "#**Confusion Matrix**\n",
    "\n",
    "### * **Accuracy** \n",
    "number of examples correctly predicted / total number of examples  \n",
    "![alt text](https://wikimedia.org/api/rest_v1/media/math/render/svg/c72ec21ef2505c2d376e96197637fc64f75e5891)"
   ]
  },
  {
   "cell_type": "code",
   "execution_count": null,
   "metadata": {
    "id": "kf2vqlsamx7r"
   },
   "outputs": [],
   "source": [
    "# Making the Confusion Matrix\n",
    "from sklearn.metrics import confusion_matrix\n",
    "target_names = ['Retained', 'Closed']\n",
    "cm = confusion_matrix(y_test, y_pred)\n",
    "print(cm)"
   ]
  },
  {
   "cell_type": "code",
   "execution_count": null,
   "metadata": {
    "id": "EQPEuDuBnkgN"
   },
   "outputs": [],
   "source": [
    "import matplotlib.pyplot as plt\n",
    "import seaborn as sns"
   ]
  },
  {
   "cell_type": "code",
   "execution_count": null,
   "metadata": {
    "colab": {
     "base_uri": "https://localhost:8080/",
     "height": 526
    },
    "executionInfo": {
     "elapsed": 21,
     "status": "ok",
     "timestamp": 1682925107260,
     "user": {
      "displayName": "KARNATI MOHAN",
      "userId": "16604712269571437600"
     },
     "user_tz": -330
    },
    "id": "ZE0yRVvRm4ng",
    "outputId": "d2947152-ef58-453f-eb09-6e59c29c2d73"
   },
   "outputs": [],
   "source": [
    "p = sns.heatmap(pd.DataFrame(cm), annot=True, xticklabels=target_names, yticklabels=target_names, cmap=\"YlGnBu\" ,fmt='g')\n",
    "plt.title('Confusion matrix', y=1.1)\n",
    "plt.ylabel('Actual label')\n",
    "plt.xlabel('Predicted label')"
   ]
  },
  {
   "cell_type": "markdown",
   "metadata": {
    "id": "vA-IrzYPrkah"
   },
   "source": [
    "/workspace/aayush/dataset/Churn_Modelling.csv\n",
    "700/700 [==============================] - 1s 926us/step - loss: 0.4826 - accuracy: 0.7924#**Classification Report**\n",
    "\n",
    "### * **True Positive Rate**\n",
    "number of samples actually and predicted as  `Positive` / total number of samples actually `Positive`  \n",
    "Also called **Sensitivity or Recall**.  \n",
    "![alt text](https://wikimedia.org/api/rest_v1/media/math/render/svg/64d5540cbadeb83f864d7a731b7ab43cccd0f353)\n",
    "\n",
    "\n",
    "### * **Positive Predictive Value**\n",
    "number of samples actually and predicted as  `Positive` / total number of samples predicted as `Positive`  \n",
    "Also called **Precision**.  \n",
    "![alt text](https://wikimedia.org/api/rest_v1/media/math/render/svg/699fcdb880b7f6a92742bc0845b8b60b59806a98)\n",
    "\n",
    "### * **F1 score**\n",
    "Harmonic Mean of Precision and Recall.  \n",
    "![alt text](https://wikimedia.org/api/rest_v1/media/math/render/svg/5663ca95d471868169c4e4ea57c936f1b6f4a588)"
   ]
  },
  {
   "cell_type": "code",
   "execution_count": null,
   "metadata": {
    "colab": {
     "base_uri": "https://localhost:8080/"
    },
    "executionInfo": {
     "elapsed": 813,
     "status": "ok",
     "timestamp": 1682925145842,
     "user": {
      "displayName": "KARNATI MOHAN",
      "userId": "16604712269571437600"
     },
     "user_tz": -330
    },
    "id": "h9PnAQtCm7wC",
    "outputId": "d2e72331-81fe-437f-eb03-1463bc186e95"
   },
   "outputs": [],
   "source": [
    "#import classification_report\n",
    "from sklearn.metrics import classification_report\n",
    "print(classification_report(y_test,y_pred, target_names=target_names))"
   ]
  },
  {
   "cell_type": "markdown",
   "metadata": {
    "id": "m4WoHrjxrooT"
   },
   "source": [
    "#**ROC curve**"
   ]
  },
  {
   "cell_type": "code",
   "execution_count": null,
   "metadata": {
    "colab": {
     "base_uri": "https://localhost:8080/",
     "height": 489
    },
    "executionInfo": {
     "elapsed": 2094,
     "status": "ok",
     "timestamp": 1682925347985,
     "user": {
      "displayName": "KARNATI MOHAN",
      "userId": "16604712269571437600"
     },
     "user_tz": -330
    },
    "id": "6t01_ocrm-zD",
    "outputId": "795211e3-a5bb-452a-c2aa-8dd636c00fb8"
   },
   "outputs": [],
   "source": [
    "from sklearn.metrics import roc_curve, auc\n",
    "y_pred_proba = classifier.predict(X_test)\n",
    "fpr, tpr, thresholds = roc_curve(y_test, y_pred_proba)\n",
    "roc_auc = auc(fpr, tpr)\n",
    "plt.plot([0,1],[0,1],'k--')\n",
    "plt.plot(fpr,tpr, label='AUC (area = %0.2f)' % roc_auc)\n",
    "plt.xlabel('fpr')\n",
    "plt.ylabel('tpr')\n",
    "plt.grid()\n",
    "plt.legend(loc=\"lower right\")\n",
    "plt.title('ROC curve')\n",
    "plt.show()"
   ]
  },
  {
   "cell_type": "code",
   "execution_count": null,
   "metadata": {
    "colab": {
     "base_uri": "https://localhost:8080/"
    },
    "executionInfo": {
     "elapsed": 4,
     "status": "ok",
     "timestamp": 1682925354816,
     "user": {
      "displayName": "KARNATI MOHAN",
      "userId": "16604712269571437600"
     },
     "user_tz": -330
    },
    "id": "a451w5gDnEoB",
    "outputId": "61aa2396-cea9-4f5f-9fdd-c9dc5301872e"
   },
   "outputs": [],
   "source": [
    "#Area under ROC curve\n",
    "from sklearn.metrics import roc_auc_score\n",
    "roc_auc_score(y_test,y_pred_proba)"
   ]
  },
  {
   "cell_type": "code",
   "execution_count": null,
   "metadata": {},
   "outputs": [],
   "source": []
  },
  {
   "cell_type": "code",
   "execution_count": null,
   "metadata": {},
   "outputs": [],
   "source": []
  },
  {
   "cell_type": "code",
   "execution_count": null,
   "metadata": {},
   "outputs": [],
   "source": []
  },
  {
   "cell_type": "code",
   "execution_count": null,
   "metadata": {},
   "outputs": [],
   "source": [
    "\n",
    "700/700 [==============================] - 1s 926us/step - loss: 0.4826 - accuracy: 0.7924"
   ]
  },
  {
   "cell_type": "code",
   "execution_count": null,
   "metadata": {},
   "outputs": [],
   "source": []
  },
  {
   "cell_type": "code",
   "execution_count": null,
   "metadata": {},
   "outputs": [],
   "source": []
  },
  {
   "cell_type": "code",
   "execution_count": null,
   "metadata": {},
   "outputs": [],
   "source": []
  }
 ],
 "metadata": {
  "accelerator": "GPU",
  "colab": {
   "authorship_tag": "ABX9TyP68ArGVhPe+en5OFWzvjgO",
   "collapsed_sections": [
    "zgKeLfCk8iSM"
   ],
   "mount_file_id": "1pn2DoBBM0ADwKKx-MVTLGOUvkPXdArcL",
   "provenance": []
  },
  "gpuClass": "standard",
  "kernelspec": {
   "display_name": "Python 3 (ipykernel)",
   "language": "python",
   "name": "python3"
  },
  "language_info": {
   "codemirror_mode": {
    "name": "ipython",
    "version": 3
   },
   "file_extension": ".py",
   "mimetype": "text/x-python",
   "name": "python",
   "nbconvert_exporter": "python",
   "pygments_lexer": "ipython3",
   "version": "3.10.11"
  }
 },
 "nbformat": 4,
 "nbformat_minor": 4
}
