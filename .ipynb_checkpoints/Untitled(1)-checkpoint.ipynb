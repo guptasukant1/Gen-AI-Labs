{
 "cells": [
  {
   "cell_type": "code",
   "execution_count": null,
   "id": "04507fda",
   "metadata": {},
   "outputs": [],
   "source": [
    "import pandas as pd\n",
    "import numpy as np\n",
    "import random\n",
    "from sklearn.preprocessing import MinMaxScaler\n",
    "from sklearn.preprocessing import LabelEncoder"
   ]
  },
  {
   "cell_type": "code",
   "execution_count": null,
   "id": "cff06e16",
   "metadata": {},
   "outputs": [],
   "source": [
    "data = {\n",
    "    'age':[random.randint(20,60) for _ in range (100)],\n",
    "    'gender':[random.choice(['Male', 'Female'])for _ in range(100)],\n",
    "    'income':[random.randint(200000,1000000) for _ in range(100)]\n",
    "}\n",
    "df = pd.DataFrame(data)\n",
    "df.to_csv('data.csv', index=False)"
   ]
  },
  {
   "cell_type": "code",
   "execution_count": null,
   "id": "e7001653",
   "metadata": {},
   "outputs": [],
   "source": [
    "data=pd.read_csv('data.csv')\n",
    "data.head(20) #head gives 1st 5 reading by default, here it will give 20"
   ]
  },
  {
   "cell_type": "code",
   "execution_count": null,
   "id": "d288653e",
   "metadata": {},
   "outputs": [],
   "source": [
    "data.isnull().sum()\n",
    "#tells number of null values in each column\n",
    "\n",
    "#data.dropna(how='any',inplace = True)\n",
    "#above line removes rows with 1 or more null values"
   ]
  },
  {
   "cell_type": "code",
   "execution_count": null,
   "id": "dfa52e88",
   "metadata": {},
   "outputs": [],
   "source": [
    "data.shape\n",
    "#used to check shape of data"
   ]
  },
  {
   "cell_type": "code",
   "execution_count": null,
   "id": "7081810a",
   "metadata": {},
   "outputs": [],
   "source": [
    "#Label Encoding of gender\n",
    "le=LabelEncoder()\n",
    "data[['gender']]=data[['gender']].apply(le.fit_transform)\n",
    "data.head(20)"
   ]
  },
  {
   "cell_type": "code",
   "execution_count": null,
   "id": "e2601609",
   "metadata": {},
   "outputs": [],
   "source": [
    "#separating label from data\n",
    "y=data[\"gender\"]\n",
    "x=data.drop([\"gender\"], axis=1)\n",
    "print(x.shape)\n",
    "print(y.shape)"
   ]
  },
  {
   "cell_type": "code",
   "execution_count": null,
   "id": "b0cc1933",
   "metadata": {},
   "outputs": [],
   "source": [
    "#split the data into training and testing data\n",
    "from sklearn.model_selection import train_test_split\n",
    "x_train, x_test, y_train, y_test=train_test_split(x,y,test_size=0.3, random_state=2)\n",
    "#0.3 test_size means 30% data will go to test and remaining 70% will be train\n",
    "#2 random_state means every 2nd data will be picked, this means we can recreate this random splitting next time as well by using random_state=2"
   ]
  },
  {
   "cell_type": "code",
   "execution_count": null,
   "id": "b457ae75",
   "metadata": {},
   "outputs": [],
   "source": [
    "print('Shape of x_train is:', x_train.shape)\n",
    "print('Shape of x_test is:', x_test.shape)\n",
    "print('Shape of y_train is:', y_train.shape)\n",
    "print('Shape of y_test is:', y_test.shape)"
   ]
  },
  {
   "cell_type": "code",
   "execution_count": null,
   "id": "fe137b14",
   "metadata": {},
   "outputs": [],
   "source": [
    "from sklearn.preprocessing import StandardScaler\n",
    "sc = StandardScaler()\n",
    "x_train = sc.fit_transform(x_train)\n",
    "x_test = sc.transform(x_test)"
   ]
  },
  {
   "cell_type": "code",
   "execution_count": null,
   "id": "667ab1bc",
   "metadata": {},
   "outputs": [],
   "source": [
    "print(x_train)"
   ]
  },
  {
   "cell_type": "code",
   "execution_count": null,
   "id": "b365f72e",
   "metadata": {},
   "outputs": [],
   "source": [
    "print(x_test)"
   ]
  },
  {
   "cell_type": "code",
   "execution_count": null,
   "id": "d0d7633d",
   "metadata": {},
   "outputs": [],
   "source": [
    "# Sequential model to initialize our ann and dense module to build the layers\n",
    "from keras.models import Sequential\n",
    "from keras.layers import Dense"
   ]
  },
  {
   "cell_type": "code",
   "execution_count": null,
   "id": "b88c64fe",
   "metadata": {},
   "outputs": [],
   "source": [
    "classifier = Sequential()\n",
    "# Adding the input layer and the first hidden layer\n",
    "classifier.add(Dense(units = 8, kernel_initializer = 'uniform', activation = 'relu', input_dim = 2))\n",
    "\n",
    "# Adding the Second hidden layer\n",
    "classifier.add(Dense(units = 16, kernel_initializer = 'uniform', activation = 'relu'))\n",
    "\n",
    "# Adding the Third hidden layer\n",
    "classifier.add(Dense(units = 32, kernel_initializer = 'uniform', activation = 'relu'))\n",
    "\n",
    "# Adding the Output layer\n",
    "classifier.add(Dense(units = 1, kernel_initializer = 'uniform', activation = 'softmax'))"
   ]
  },
  {
   "cell_type": "code",
   "execution_count": null,
   "id": "67ec33fc",
   "metadata": {},
   "outputs": [],
   "source": [
    "classifier.compile(optimizer = 'adam', loss = 'binary_crossentropy', metrics = ['accuracy'])\n",
    "# classifier.compile(optimizer = 'adam', loss = 'binary_crossentropy', metrics = ['accuracy'])\n",
    "\n",
    "# Fitting the ann to the training set\n",
    "classifier.fit(x_train, y_train, batch_size = 16, epochs = 50, verbose = 1)"
   ]
  },
  {
   "cell_type": "code",
   "execution_count": null,
   "id": "f147d6a1",
   "metadata": {},
   "outputs": [],
   "source": [
    "score, acc = classifier.evaluate(x_train, y_train, batch_size = 20)\n",
    "print('Train Score: ', score)\n",
    "print('Train accuracy: ', acc)\n",
    "\n",
    "print('*'*20)\n",
    "score, acc = classifier.evaluate(x_test, y_test, batch_size = 10)\n",
    "print('Test Score: ', score)\n",
    "print('Test accuracy: ', acc)"
   ]
  },
  {
   "cell_type": "code",
   "execution_count": null,
   "id": "a6116b68",
   "metadata": {},
   "outputs": [],
   "source": []
  }
 ],
 "metadata": {
  "kernelspec": {
   "display_name": "Python 3 (ipykernel)",
   "language": "python",
   "name": "python3"
  },
  "language_info": {
   "codemirror_mode": {
    "name": "ipython",
    "version": 3
   },
   "file_extension": ".py",
   "mimetype": "text/x-python",
   "name": "python",
   "nbconvert_exporter": "python",
   "pygments_lexer": "ipython3",
   "version": "3.10.6"
  }
 },
 "nbformat": 4,
 "nbformat_minor": 5
}
