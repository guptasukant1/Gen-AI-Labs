{
 "cells": [
  {
   "cell_type": "code",
   "execution_count": null,
   "id": "e318f65b",
   "metadata": {
    "executionInfo": {
     "elapsed": 15,
     "status": "ok",
     "timestamp": 1704194279043,
     "user": {
      "displayName": "Saahil Lashkari",
      "userId": "11755278165824166564"
     },
     "user_tz": -330
    },
    "id": "f743a0f1"
   },
   "outputs": [],
   "source": [
    "import pandas as pd\n",
    "import numpy as np\n",
    "import random\n",
    "from sklearn.preprocessing import MinMaxScaler\n",
    "from sklearn.preprocessing import LabelEncoder"
   ]
  },
  {
   "cell_type": "code",
   "execution_count": null,
   "id": "127426e6",
   "metadata": {
    "colab": {
     "base_uri": "https://localhost:8080/",
     "height": 669
    },
    "executionInfo": {
     "elapsed": 51,
     "status": "ok",
     "timestamp": 1704194280879,
     "user": {
      "displayName": "Saahil Lashkari",
      "userId": "11755278165824166564"
     },
     "user_tz": -330
    },
    "id": "dc116465",
    "outputId": "5f6bb5a7-6ee1-4ef9-d91c-ffb4967c3829"
   },
   "outputs": [],
   "source": [
    "data=pd.read_csv('bird.csv')\n",
    "data.head(20) #head gives 1st 5 reading by default, here it will give 20"
   ]
  },
  {
   "cell_type": "code",
   "execution_count": null,
   "id": "3b240850",
   "metadata": {
    "colab": {
     "base_uri": "https://localhost:8080/"
    },
    "executionInfo": {
     "elapsed": 43,
     "status": "ok",
     "timestamp": 1704194280879,
     "user": {
      "displayName": "Saahil Lashkari",
      "userId": "11755278165824166564"
     },
     "user_tz": -330
    },
    "id": "7c4b7937",
    "outputId": "83524d7c-ab7c-4aef-bbd9-a77d0213e68c"
   },
   "outputs": [],
   "source": [
    "data.set_index('id', inplace=True)\n",
    "data.head(20) #head gives 1st 5 reading by default, here it will give 20"
   ]
  },
  {
   "cell_type": "code",
   "execution_count": null,
   "id": "d3bd3d6b",
   "metadata": {
    "colab": {
     "base_uri": "https://localhost:8080/"
    },
    "executionInfo": {
     "elapsed": 37,
     "status": "ok",
     "timestamp": 1704194280879,
     "user": {
      "displayName": "Saahil Lashkari",
      "userId": "11755278165824166564"
     },
     "user_tz": -330
    },
    "id": "d1e492ea",
    "outputId": "999b2c96-8cd8-428c-ce66-5c1f36b33df1"
   },
   "outputs": [],
   "source": [
    "print(data.isnull().sum())"
   ]
  },
  {
   "cell_type": "code",
   "execution_count": null,
   "id": "15a270fd",
   "metadata": {},
   "outputs": [],
   "source": [
    "data.dropna(inplace=True)\n",
    "print(data.head(20))\n",
    "print(data.isnull().sum())"
   ]
  },
  {
   "cell_type": "code",
   "execution_count": null,
   "id": "64a82bb1",
   "metadata": {},
   "outputs": [],
   "source": [
    "print(data.shape)"
   ]
  },
  {
   "cell_type": "code",
   "execution_count": null,
   "id": "41124da5",
   "metadata": {},
   "outputs": [],
   "source": [
    "for column in data.columns:\n",
    "    num_unique_values = data[column].nunique()\n",
    "    print(f\"Number of unique values in '{column}': {num_unique_values}\")"
   ]
  },
  {
   "cell_type": "code",
   "execution_count": null,
   "id": "8fec44e3",
   "metadata": {
    "colab": {
     "base_uri": "https://localhost:8080/",
     "height": 669
    },
    "executionInfo": {
     "elapsed": 33,
     "status": "ok",
     "timestamp": 1704194280880,
     "user": {
      "displayName": "Saahil Lashkari",
      "userId": "11755278165824166564"
     },
     "user_tz": -330
    },
    "id": "22b9f27f",
    "outputId": "c0f3ec02-61ce-456c-f2f1-9033a93df7be"
   },
   "outputs": [],
   "source": [
    "#Label Encoding of type\n",
    "le=LabelEncoder()\n",
    "data[['type']]=data[['type']].apply(le.fit_transform)\n",
    "data.head(20)"
   ]
  },
  {
   "cell_type": "code",
   "execution_count": null,
   "id": "c83a8f35",
   "metadata": {
    "colab": {
     "base_uri": "https://localhost:8080/"
    },
    "executionInfo": {
     "elapsed": 30,
     "status": "ok",
     "timestamp": 1704194280880,
     "user": {
      "displayName": "Saahil Lashkari",
      "userId": "11755278165824166564"
     },
     "user_tz": -330
    },
    "id": "bb56e8ae",
    "outputId": "812b3a24-997f-419c-efc8-c572bec66343"
   },
   "outputs": [],
   "source": [
    "#separating label from data\n",
    "y=data[\"type\"]\n",
    "x=data.drop([\"type\"], axis=1)\n",
    "print(x.shape)\n",
    "print(y.shape)"
   ]
  },
  {
   "cell_type": "code",
   "execution_count": null,
   "id": "6471bf27",
   "metadata": {
    "executionInfo": {
     "elapsed": 26,
     "status": "ok",
     "timestamp": 1704194280880,
     "user": {
      "displayName": "Saahil Lashkari",
      "userId": "11755278165824166564"
     },
     "user_tz": -330
    },
    "id": "05faf784"
   },
   "outputs": [],
   "source": [
    "#split the data into training and testing data\n",
    "from sklearn.model_selection import train_test_split\n",
    "x_train, x_test, y_train, y_test=train_test_split(x,y,test_size=0.3, random_state=2)\n",
    "#0.3 test_size means 30% data will go to test and remaining 70% will be train\n",
    "#2 random_state means every 2nd data will be picked, this means we can recreate this random splitting next time as well by using random_state=2"
   ]
  },
  {
   "cell_type": "code",
   "execution_count": null,
   "id": "ed5f4bb0",
   "metadata": {
    "colab": {
     "base_uri": "https://localhost:8080/"
    },
    "executionInfo": {
     "elapsed": 25,
     "status": "ok",
     "timestamp": 1704194280881,
     "user": {
      "displayName": "Saahil Lashkari",
      "userId": "11755278165824166564"
     },
     "user_tz": -330
    },
    "id": "403e1790",
    "outputId": "ca01c5a1-3bc1-43b1-aeb1-293e5d7cd507"
   },
   "outputs": [],
   "source": [
    "print('Shape of x_train is:', x_train.shape)\n",
    "print('Shape of x_test is:', x_test.shape)\n",
    "print('Shape of y_train is:', y_train.shape)\n",
    "print('Shape of y_test is:', y_test.shape)"
   ]
  },
  {
   "cell_type": "code",
   "execution_count": null,
   "id": "523f5bfa",
   "metadata": {
    "executionInfo": {
     "elapsed": 21,
     "status": "ok",
     "timestamp": 1704194280881,
     "user": {
      "displayName": "Saahil Lashkari",
      "userId": "11755278165824166564"
     },
     "user_tz": -330
    },
    "id": "5e9bb1a2"
   },
   "outputs": [],
   "source": [
    "from sklearn.preprocessing import StandardScaler\n",
    "sc= StandardScaler()\n",
    "x_train=sc.fit_transform(x_train)\n",
    "x_test=sc.fit_transform(x_test)\n",
    "\n",
    "from keras.utils import to_categorical\n",
    "\n",
    "# Convert labels to one-hot encoding\n",
    "y_train_encoded = to_categorical(y_train, num_classes=6)\n",
    "y_test_encoded = to_categorical(y_test, num_classes=6)"
   ]
  },
  {
   "cell_type": "code",
   "execution_count": null,
   "id": "57bab10c",
   "metadata": {
    "colab": {
     "base_uri": "https://localhost:8080/"
    },
    "executionInfo": {
     "elapsed": 20,
     "status": "ok",
     "timestamp": 1704194280881,
     "user": {
      "displayName": "Saahil Lashkari",
      "userId": "11755278165824166564"
     },
     "user_tz": -330
    },
    "id": "f1cc63f4",
    "outputId": "33f3e046-59c2-4ccb-c5dc-688f0a27cdd6"
   },
   "outputs": [],
   "source": [
    "print(x_train)\n",
    "print(x_test)"
   ]
  },
  {
   "cell_type": "code",
   "execution_count": null,
   "id": "59f94164",
   "metadata": {
    "executionInfo": {
     "elapsed": 4042,
     "status": "ok",
     "timestamp": 1704194284906,
     "user": {
      "displayName": "Saahil Lashkari",
      "userId": "11755278165824166564"
     },
     "user_tz": -330
    },
    "id": "b21146a3"
   },
   "outputs": [],
   "source": [
    "#sequential model to initialise our ANN and dense module to build the layers\n",
    "import tensorflow as tf\n",
    "from keras.models import Sequential\n",
    "from keras.layers import Dense"
   ]
  },
  {
   "cell_type": "code",
   "execution_count": null,
   "id": "35921736",
   "metadata": {
    "executionInfo": {
     "elapsed": 1792,
     "status": "ok",
     "timestamp": 1704194286696,
     "user": {
      "displayName": "Saahil Lashkari",
      "userId": "11755278165824166564"
     },
     "user_tz": -330
    },
    "id": "677f1b5a"
   },
   "outputs": [],
   "source": [
    "classifier = Sequential()\n",
    "\n",
    "#adding input layer and 1st hidden layer\n",
    "classifier.add(Dense(units=8, kernel_initializer='uniform', activation='relu', input_dim=10))\n",
    "\n",
    "#adding 2nd hidden layer\n",
    "classifier.add(Dense(units=16, kernel_initializer='uniform', activation='relu'))\n",
    "\n",
    "#adding 3rd hidden layer\n",
    "classifier.add(Dense(units=32, kernel_initializer='uniform', activation='relu'))\n",
    "\n",
    "#adding output layer\n",
    "classifier.add(Dense(units=6, kernel_initializer='uniform', activation='softmax'))"
   ]
  },
  {
   "cell_type": "code",
   "execution_count": null,
   "id": "1cef5185",
   "metadata": {
    "colab": {
     "base_uri": "https://localhost:8080/"
    },
    "executionInfo": {
     "elapsed": 2627,
     "status": "ok",
     "timestamp": 1704194289300,
     "user": {
      "displayName": "Saahil Lashkari",
      "userId": "11755278165824166564"
     },
     "user_tz": -330
    },
    "id": "0194539c",
    "outputId": "7fc90248-2f8c-4b09-8837-7c1594921c79"
   },
   "outputs": [],
   "source": [
    "classifier.compile(optimizer='adam', loss='categorical_crossentropy', metrics=['accuracy'])\n",
    "\n",
    "#fitting the ANN to training set\n",
    "classifier.fit(x_train, y_train_encoded, batch_size=16,epochs=1000, verbose =1) #type: ignore"
   ]
  },
  {
   "cell_type": "code",
   "execution_count": null,
   "id": "2eafc9d7",
   "metadata": {
    "colab": {
     "base_uri": "https://localhost:8080/"
    },
    "executionInfo": {
     "elapsed": 718,
     "status": "ok",
     "timestamp": 1704194290016,
     "user": {
      "displayName": "Saahil Lashkari",
      "userId": "11755278165824166564"
     },
     "user_tz": -330
    },
    "id": "6dabddb6",
    "outputId": "e3cc674a-ff02-4e07-eb2f-0ce6bd32bde7"
   },
   "outputs": [],
   "source": [
    "score, acc=classifier.evaluate(x_train, y_train_encoded, batch_size=10)\n",
    "\n",
    "print('Train score:', score)\n",
    "print('Train accuracy:', acc)\n",
    "\n",
    "print('*'*20)\n",
    "score, acc = classifier.evaluate(x_test, y_test_encoded, batch_size=10)\n",
    "print('Test score:', score)\n",
    "print('Test accuracy:', acc)"
   ]
  },
  {
   "cell_type": "code",
   "execution_count": null,
   "id": "fe6c69c7",
   "metadata": {
    "executionInfo": {
     "elapsed": 10,
     "status": "ok",
     "timestamp": 1704194290016,
     "user": {
      "displayName": "Saahil Lashkari",
      "userId": "11755278165824166564"
     },
     "user_tz": -330
    },
    "id": "b9e8a02e"
   },
   "outputs": [],
   "source": [
    "from sklearn.metrics import classification_report, confusion_matrix\n",
    "import numpy as np\n",
    "\n",
    "# Make predictions on the test set\n",
    "y_pred = np.argmax(classifier.predict(x_test), axis=1)\n",
    "\n",
    "# Create a classification report\n",
    "class_report = classification_report(y_test, y_pred)\n",
    "print(\"Classification Report:\\n\", class_report)\n",
    "\n",
    "# Create a confusion matrix\n",
    "conf_matrix = confusion_matrix(y_test, y_pred)\n",
    "print(\"Confusion Matrix:\\n\", conf_matrix)\n"
   ]
  },
  {
   "cell_type": "code",
   "execution_count": null,
   "id": "3cd23945",
   "metadata": {},
   "outputs": [],
   "source": []
  }
 ],
 "metadata": {
  "colab": {
   "provenance": []
  },
  "kernelspec": {
   "display_name": "Python 3 (ipykernel)",
   "language": "python",
   "name": "python3"
  },
  "language_info": {
   "codemirror_mode": {
    "name": "ipython",
    "version": 3
   },
   "file_extension": ".py",
   "mimetype": "text/x-python",
   "name": "python",
   "nbconvert_exporter": "python",
   "pygments_lexer": "ipython3",
   "version": "3.10.11"
  }
 },
 "nbformat": 4,
 "nbformat_minor": 5
}
