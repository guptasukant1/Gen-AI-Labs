{
 "cells": [
  {
   "cell_type": "markdown",
   "metadata": {
    "id": "JbLj-OUKojSL"
   },
   "source": [
    "# **AIM: Build an Artificial Neural Network to implement Binary Classification task using the Back-propagation algorithm and test the same using appropriate data sets.**"
   ]
  },
  {
   "cell_type": "markdown",
   "metadata": {
    "id": "GAd5BOpNn1yb"
   },
   "source": [
    "# **Description**\n",
    "\n",
    "The data used here is : '**Pima Indians Diabetes Dataset**'. It is downloaded from : https://raw.githubusercontent.com/jbrownlee/Datasets/master/pima-indians-diabetes.csv\n",
    "\n",
    "It is a binary (2-class) classification problem. There are 768 observations with 8 input variables and 1 output variable.\n",
    "\n",
    "The variable names are as follows:\n",
    "\n",
    "**1. Number of times pregnant.**\n",
    "\n",
    "**2. Plasma glucose concentration a 2 hours in an oral glucose tolerance test.**\n",
    "\n",
    "**3. Diastolic blood pressure (mm Hg).**\n",
    "\n",
    "**4. Triceps skinfold thickness (mm).**\n",
    "\n",
    "**5. 2-Hour serum insulin (mu U/ml).**\n",
    "\n",
    "**6. Body mass index (weight in kg/(height in m)^2).**\n",
    "\n",
    "**7. Diabetes pedigree function.**\n",
    "\n",
    "**8. Age (years).**\n",
    "\n",
    "**9. Class variable (0 or 1).**\n"
   ]
  },
  {
   "cell_type": "markdown",
   "metadata": {
    "id": "c3pOyaANmimQ"
   },
   "source": [
    " # **Data Import and Processing**\n"
   ]
  },
  {
   "cell_type": "code",
   "execution_count": null,
   "metadata": {
    "id": "mwGyz6EwSRk5"
   },
   "outputs": [],
   "source": [
    "import numpy as np\n",
    "import pandas as pd\n",
    "import matplotlib.pyplot as plt\n",
    "\n",
    "import sklearn"
   ]
  },
  {
   "cell_type": "code",
   "execution_count": null,
   "metadata": {
    "id": "-n1H04B-dX7O"
   },
   "outputs": [],
   "source": [
    "# load data\n",
    "url = 'https://raw.githubusercontent.com/jbrownlee/Datasets/master/pima-indians-diabetes.csv'\n",
    "data_pd = pd.read_csv(url,header = None)\n",
    "print(data_pd.info())\n",
    "print(data_pd.head())"
   ]
  },
  {
   "cell_type": "markdown",
   "metadata": {
    "id": "jsRaWD3y5CgE"
   },
   "source": [
    "StandardScaler: https://scikit-learn.org/stable/modules/generated/sklearn.preprocessing.StandardScaler.html"
   ]
  },
  {
   "cell_type": "code",
   "execution_count": null,
   "metadata": {
    "id": "qyy2Qp8uHNkQ"
   },
   "outputs": [],
   "source": [
    "#Scaling Numerical columns\n",
    "from sklearn.preprocessing import StandardScaler\n",
    "std = StandardScaler()\n",
    "scaled = std.fit_transform(data_pd.iloc[:,0:8])\n",
    "scaled = pd.DataFrame(scaled)\n",
    "scaled.head()"
   ]
  },
  {
   "cell_type": "code",
   "execution_count": null,
   "metadata": {
    "id": "aSvqBd1jC0GW"
   },
   "outputs": [],
   "source": [
    "X_data =scaled.to_numpy()\n",
    "print('X_data:',np.shape(X_data))\n",
    "Y_data = data_pd.iloc[:,8]\n",
    "print('Y_data:',np.shape(Y_data))"
   ]
  },
  {
   "cell_type": "code",
   "execution_count": null,
   "metadata": {
    "id": "re5mYzfAdX2R"
   },
   "outputs": [],
   "source": [
    "# Split data into X_train, X_test, y_train, y_test\n",
    "from sklearn.model_selection import train_test_split\n",
    "X_train, X_test, y_train, y_test = train_test_split(X_data, Y_data, test_size=0.25, random_state= 0)"
   ]
  },
  {
   "cell_type": "code",
   "execution_count": null,
   "metadata": {
    "id": "6XY9nsL8dXzm"
   },
   "outputs": [],
   "source": [
    "# Check the dimension of the sets\n",
    "print('X_train:',np.shape(X_train))\n",
    "print('y_train:',np.shape(y_train))\n",
    "print('X_test:',np.shape(X_test))\n",
    "print('y_test:',np.shape(y_test))"
   ]
  },
  {
   "cell_type": "markdown",
   "metadata": {
    "id": "5hDbfl4qm5Iq"
   },
   "source": [
    "# **Design the Model**"
   ]
  },
  {
   "cell_type": "code",
   "execution_count": null,
   "metadata": {
    "id": "lTOChYlGdXmu"
   },
   "outputs": [],
   "source": [
    "import keras\n",
    "from keras.models import Sequential   # importing Sequential model\n",
    "from keras.layers import Dense        # importing Dense layers"
   ]
  },
  {
   "cell_type": "code",
   "execution_count": null,
   "metadata": {
    "id": "BRvrz_MLSfMd"
   },
   "outputs": [],
   "source": [
    "# declaring model\n",
    "basic_model = Sequential()"
   ]
  },
  {
   "cell_type": "markdown",
   "metadata": {
    "id": "yX8XB64P4IqQ"
   },
   "source": [
    "Check Eg: https://github.com/urjeet/Pima-Diabetes-Keras-Model/blob/master/pima_diabetes_keras_model.py"
   ]
  },
  {
   "cell_type": "code",
   "execution_count": null,
   "metadata": {
    "id": "1uhibQNlWsPU"
   },
   "outputs": [],
   "source": [
    "# Adding layers to the model (DIY)\n",
    "\n",
    "# First layers: 8 neurons/perceptrons that takes the input and uses 'sigmoid' activation function.\n",
    "\n",
    "# Second layers: 4 neurons/perceptrons, 'sigmoid' activation function.\n",
    "\n",
    "# Final layer: 1 neuron/perceptron to do binary classification\n"
   ]
  },
  {
   "cell_type": "code",
   "execution_count": null,
   "metadata": {
    "id": "1_pihhdiTlHR"
   },
   "outputs": [],
   "source": [
    "# compiling the model (DIY)\n"
   ]
  },
  {
   "cell_type": "markdown",
   "metadata": {
    "id": "1u-JSWmXnAqf"
   },
   "source": [
    "# **Train the Model**"
   ]
  },
  {
   "cell_type": "code",
   "execution_count": null,
   "metadata": {
    "id": "GvTzUK7OasqW"
   },
   "outputs": [],
   "source": [
    "# training the model\n",
    "epochs=120\n",
    "history = basic_model.fit(X_train, y_train, validation_data=(X_test, y_test), epochs=epochs)"
   ]
  },
  {
   "cell_type": "markdown",
   "metadata": {
    "id": "Sb996_yGu6cl"
   },
   "source": [
    "#**Evaluate the Model**"
   ]
  },
  {
   "cell_type": "code",
   "execution_count": null,
   "metadata": {
    "id": "SUS1fZ5nvF3U"
   },
   "outputs": [],
   "source": [
    "# plot loss vs epochs\n",
    "epochRange = range(1,epochs+1);\n",
    "plt.plot(epochRange,history.history['loss'])\n",
    "plt.plot(epochRange,history.history['val_loss'])\n",
    "plt.xlabel('Epoch')\n",
    "plt.ylabel('Loss')\n",
    "plt.grid()\n",
    "plt.xlim((1,epochs))\n",
    "plt.legend(['Train','Test'])\n",
    "plt.show()"
   ]
  },
  {
   "cell_type": "code",
   "execution_count": null,
   "metadata": {
    "id": "Z08lfMC5v0wk"
   },
   "outputs": [],
   "source": [
    "# Plot accuracy vs epochs (DIY)\n"
   ]
  },
  {
   "cell_type": "code",
   "execution_count": null,
   "metadata": {
    "id": "FlT5Vst5h16C"
   },
   "outputs": [],
   "source": [
    "# Test, Loss and accuracy\n",
    "loss_and_metrics = basic_model.evaluate(X_test, y_test)\n",
    "print('Loss = ',loss_and_metrics[0])\n",
    "print('Accuracy = ',loss_and_metrics[1])"
   ]
  },
  {
   "cell_type": "markdown",
   "metadata": {
    "id": "rs-Eo3bFwsl_"
   },
   "source": [
    "## Classification Model Performance measures\n",
    "\n",
    "<img src='https://editor.analyticsvidhya.com/uploads/99666confusion%20matrix.JPG' width=40%>"
   ]
  },
  {
   "cell_type": "code",
   "execution_count": null,
   "metadata": {
    "id": "G8j6D_uvwu1p"
   },
   "outputs": [],
   "source": [
    "y_pred = basic_model.predict(X_test)\n",
    "print(y_test[:5])\n",
    "print(y_pred[:5])"
   ]
  },
  {
   "cell_type": "code",
   "execution_count": null,
   "metadata": {
    "id": "9Dg5IIQNx2Wy"
   },
   "outputs": [],
   "source": [
    "y_pred =[1 if y_pred[aa]>=0.5 else 0 for aa in range(len(y_pred)) ]\n",
    "print(y_pred[:5])"
   ]
  },
  {
   "cell_type": "code",
   "execution_count": null,
   "metadata": {
    "id": "BtqHcIgEkn0l"
   },
   "outputs": [],
   "source": [
    "print(sklearn.metrics.classification_report(y_test, y_pred))"
   ]
  }
 ],
 "metadata": {
  "colab": {
   "provenance": [
    {
     "file_id": "https://github.com/Kaustubh-Atey/Keras-Codes-/blob/master/Keras%20-%20Binary%20Classification.ipynb",
     "timestamp": 1690785277040
    }
   ]
  },
  "kernelspec": {
   "display_name": "Python 3 (ipykernel)",
   "language": "python",
   "name": "python3"
  },
  "language_info": {
   "codemirror_mode": {
    "name": "ipython",
    "version": 3
   },
   "file_extension": ".py",
   "mimetype": "text/x-python",
   "name": "python",
   "nbconvert_exporter": "python",
   "pygments_lexer": "ipython3",
   "version": "3.8.13"
  }
 },
 "nbformat": 4,
 "nbformat_minor": 4
}
