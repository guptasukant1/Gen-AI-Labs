{
 "cells": [
  {
   "cell_type": "markdown",
   "metadata": {
    "id": "eVPARTFieQAC"
   },
   "source": [
    "#**<font color='teal'>Deep Learning Technologies: Student Workshop</font>**\n",
    "### <font color='green'>***May 30 - July 12, 2023***</font> \n",
    "####<font color='blue'>***Amity Center For Artificial Intelligence, Amity University, Noida***</font>"
   ]
  },
  {
   "cell_type": "markdown",
   "metadata": {
    "id": "efhiQzYkeQAD"
   },
   "source": [
    "# <font color='red'>**Hands-on-Session 1: Introduction to Python**</font>"
   ]
  },
  {
   "cell_type": "markdown",
   "metadata": {
    "id": "zRwpYk2oeQAE"
   },
   "source": [
    "* *Welcome to your first lab session on Python!*  \n",
    "\n",
    "* *This session contains some basic functions and syntax of Python, and at the end of the tutorial some programming exercises are given to help you test your understanding on Python programming.* \n",
    "\n",
    "* *Here we give you a very brief overview of Python programming with concepts and functions that will be used later in lab sessions and assignments.* \n",
    "\n",
    "* *For a detailed description of each of the items covered here, you may refer the official websites of Python (https://www.python.org/) and NumPy (http://www.numpy.org/).* \n"
   ]
  },
  {
   "cell_type": "markdown",
   "metadata": {
    "id": "Kc8mwZ6_eQAI"
   },
   "source": [
    "# <font color='red'>**Python Basics**</font> \n"
   ]
  },
  {
   "cell_type": "code",
   "execution_count": 1,
   "metadata": {
    "colab": {
     "base_uri": "https://localhost:8080/"
    },
    "executionInfo": {
     "elapsed": 529,
     "status": "ok",
     "timestamp": 1685429796783,
     "user": {
      "displayName": "KARNATI MOHAN",
      "userId": "16604712269571437600"
     },
     "user_tz": -330
    },
    "id": "bAYQB8NTPpYO",
    "outputId": "58177b23-6797-41bc-e537-9492af6291b5"
   },
   "outputs": [
    {
     "name": "stdout",
     "output_type": "stream",
     "text": [
      "Hello, Deep Learning Technologies Participants!\n"
     ]
    }
   ],
   "source": [
    "# simple print statement to print a string is the same as in other languages like C\n",
    "# Comment is to be prefixed with a '#'\n",
    "print(\"Hello, Deep Learning Technologies Participants!\")\n",
    "# print(\"\")"
   ]
  },
  {
   "cell_type": "code",
   "execution_count": 2,
   "metadata": {
    "colab": {
     "base_uri": "https://localhost:8080/"
    },
    "executionInfo": {
     "elapsed": 524,
     "status": "ok",
     "timestamp": 1685429849002,
     "user": {
      "displayName": "KARNATI MOHAN",
      "userId": "16604712269571437600"
     },
     "user_tz": -330
    },
    "id": "c3JdqVBISgvJ",
    "outputId": "4bffee71-1fa3-4d69-ed85-bc47fd8578eb"
   },
   "outputs": [
    {
     "name": "stdout",
     "output_type": "stream",
     "text": [
      "Here's how a single-quote escape works.\n",
      "This is how \"escape\"  works with double-quote.\n"
     ]
    }
   ],
   "source": [
    "# Here are some more examples you may explore.\n",
    "print('Here\\'s how a single-quote escape works.')\n",
    "print(\"This is how \\\"escape\\\"  works with double-quote.\")"
   ]
  },
  {
   "cell_type": "markdown",
   "metadata": {
    "id": "cjXX7ytnSxWQ"
   },
   "source": [
    "###<font color='blue'>**Input Function**</font>\n",
    "\n",
    "* *You can use an the input function, just as you might have used 'scanf' in C.* \n",
    "\n",
    "* *When the input function is called, the program flow will be stopped until you give an input and end it using the return key.* \n",
    "\n",
    "* *The text of the optional parameter, i.e., the prompt, will be printed on the screen.* \n",
    "\n",
    "* *The input of the user will be interpreted. If you input an integer value, the input function will return this integer value. If you input a list, the function will return the list.* \n",
    "\n",
    "<font color='green'>**Let's have a look at the following example:**</font>"
   ]
  },
  {
   "cell_type": "code",
   "execution_count": 3,
   "metadata": {
    "colab": {
     "base_uri": "https://localhost:8080/"
    },
    "executionInfo": {
     "elapsed": 6381,
     "status": "ok",
     "timestamp": 1685430007565,
     "user": {
      "displayName": "KARNATI MOHAN",
      "userId": "16604712269571437600"
     },
     "user_tz": -330
    },
    "id": "oHc1ZXswTOY-",
    "outputId": "78d9b4a3-8846-4fb6-c76a-5ae34ee80c5b",
    "scrolled": true
   },
   "outputs": [
    {
     "name": "stdout",
     "output_type": "stream",
     "text": [
      "Welcome  to the Workshop on Deep Learning Technologies!\n",
      "Nice to know that you come from !\n"
     ]
    }
   ],
   "source": [
    "name = input(\"What's your name? \")\n",
    "print(\"Welcome \" + name + \" to the Workshop on Deep Learning Technologies!\")\n",
    "city = input(\"Where are you from ?\")\n",
    "print(\"Nice to know that you come from \" + str(city) +  \"!\")"
   ]
  },
  {
   "cell_type": "code",
   "execution_count": 4,
   "metadata": {
    "colab": {
     "base_uri": "https://localhost:8080/"
    },
    "executionInfo": {
     "elapsed": 528,
     "status": "ok",
     "timestamp": 1685429966925,
     "user": {
      "displayName": "KARNATI MOHAN",
      "userId": "16604712269571437600"
     },
     "user_tz": -330
    },
    "id": "-3G2rY4slfBd",
    "outputId": "37bdb379-64b1-4e74-f3b0-a777413b6722"
   },
   "outputs": [
    {
     "name": "stdout",
     "output_type": "stream",
     "text": [
      "Variable   Type    Data/Info\n",
      "----------------------------\n",
      "city       str     \n",
      "name       str     \n"
     ]
    }
   ],
   "source": [
    "%whos"
   ]
  },
  {
   "cell_type": "code",
   "execution_count": 5,
   "metadata": {
    "colab": {
     "base_uri": "https://localhost:8080/"
    },
    "executionInfo": {
     "elapsed": 737,
     "status": "ok",
     "timestamp": 1685430011214,
     "user": {
      "displayName": "KARNATI MOHAN",
      "userId": "16604712269571437600"
     },
     "user_tz": -330
    },
    "id": "eWisF4po-AUw",
    "outputId": "1043a0ac-b389-4e99-b020-655a1feafe3c"
   },
   "outputs": [
    {
     "data": {
      "text/plain": [
       "str"
      ]
     },
     "execution_count": 5,
     "metadata": {},
     "output_type": "execute_result"
    }
   ],
   "source": [
    "type(name)"
   ]
  },
  {
   "cell_type": "markdown",
   "metadata": {
    "id": "przynKEKeQAZ"
   },
   "source": [
    "* <font color='teal'>***So you have seen how variables can be declared and assigned a value, like the 'name' and 'city' in the above code. A simple example is given below.***</font></font>"
   ]
  },
  {
   "cell_type": "code",
   "execution_count": 6,
   "metadata": {
    "colab": {
     "base_uri": "https://localhost:8080/"
    },
    "executionInfo": {
     "elapsed": 934,
     "status": "ok",
     "timestamp": 1685430082553,
     "user": {
      "displayName": "KARNATI MOHAN",
      "userId": "16604712269571437600"
     },
     "user_tz": -330
    },
    "id": "qQqbMZZHPpYh",
    "outputId": "72e91b96-ada0-450d-bc92-0b3ddd800fdd"
   },
   "outputs": [
    {
     "name": "stdout",
     "output_type": "stream",
     "text": [
      "20\n"
     ]
    }
   ],
   "source": [
    "# simple variable declaration and assignment\n",
    "a = 20\n",
    "print(a)"
   ]
  },
  {
   "cell_type": "code",
   "execution_count": 7,
   "metadata": {
    "colab": {
     "base_uri": "https://localhost:8080/"
    },
    "executionInfo": {
     "elapsed": 5,
     "status": "ok",
     "timestamp": 1685430086944,
     "user": {
      "displayName": "KARNATI MOHAN",
      "userId": "16604712269571437600"
     },
     "user_tz": -330
    },
    "id": "NwQR1YMi-Dw_",
    "outputId": "907aa2bf-484b-4a08-d791-1f4745975c91"
   },
   "outputs": [
    {
     "data": {
      "text/plain": [
       "int"
      ]
     },
     "execution_count": 7,
     "metadata": {},
     "output_type": "execute_result"
    }
   ],
   "source": [
    "type(a)"
   ]
  },
  {
   "cell_type": "markdown",
   "metadata": {
    "id": "3_IKl8R0eQAe"
   },
   "source": [
    "<font color='blue'>**You are suggsted to go through the following code cells. You may change the code\\inputs\\values to see the syntax and working of a function.**</font>"
   ]
  },
  {
   "cell_type": "code",
   "execution_count": 8,
   "metadata": {
    "colab": {
     "base_uri": "https://localhost:8080/"
    },
    "executionInfo": {
     "elapsed": 512,
     "status": "ok",
     "timestamp": 1685430111904,
     "user": {
      "displayName": "KARNATI MOHAN",
      "userId": "16604712269571437600"
     },
     "user_tz": -330
    },
    "id": "KWFoUPDgPpYq",
    "outputId": "bd805699-2c41-470a-97c4-43cebbd4846d"
   },
   "outputs": [
    {
     "name": "stdout",
     "output_type": "stream",
     "text": [
      "58\n"
     ]
    }
   ],
   "source": [
    "# length of the text string\n",
    "var3 = 'We welcome you to the course on Deep Learning Technologies'\n",
    "print(len(var3))"
   ]
  },
  {
   "cell_type": "code",
   "execution_count": 9,
   "metadata": {
    "colab": {
     "base_uri": "https://localhost:8080/"
    },
    "executionInfo": {
     "elapsed": 461,
     "status": "ok",
     "timestamp": 1685430138536,
     "user": {
      "displayName": "KARNATI MOHAN",
      "userId": "16604712269571437600"
     },
     "user_tz": -330
    },
    "id": "Jsyp6Wn_PpYv",
    "outputId": "65d0e6bb-fe76-420e-ca54-453dddf74b8d"
   },
   "outputs": [
    {
     "name": "stdout",
     "output_type": "stream",
     "text": [
      "1 5 2 Deep Learning Technologies\n"
     ]
    }
   ],
   "source": [
    "# multiple assignment in python\n",
    "a, b, c, d = 1, 5, 2, \"Deep Learning Technologies\"\n",
    "print(a,b,c,d)\n",
    "#try for more than 3 variables"
   ]
  },
  {
   "cell_type": "code",
   "execution_count": 10,
   "metadata": {
    "colab": {
     "base_uri": "https://localhost:8080/"
    },
    "executionInfo": {
     "elapsed": 3,
     "status": "ok",
     "timestamp": 1685430143877,
     "user": {
      "displayName": "KARNATI MOHAN",
      "userId": "16604712269571437600"
     },
     "user_tz": -330
    },
    "id": "-V-gTUpZPpYy",
    "outputId": "56f4e837-250a-4a66-e03e-b2c2ef3c35b9"
   },
   "outputs": [
    {
     "name": "stdout",
     "output_type": "stream",
     "text": [
      "10\n"
     ]
    }
   ],
   "source": [
    "a1 = a2 = a3 = a4 = 10\n",
    "\n",
    "print(a1)"
   ]
  },
  {
   "cell_type": "code",
   "execution_count": 11,
   "metadata": {
    "colab": {
     "base_uri": "https://localhost:8080/"
    },
    "executionInfo": {
     "elapsed": 708,
     "status": "ok",
     "timestamp": 1685430235438,
     "user": {
      "displayName": "KARNATI MOHAN",
      "userId": "16604712269571437600"
     },
     "user_tz": -330
    },
    "id": "NsOgpALqPpY4",
    "outputId": "cc70d82a-46e8-4985-8f39-b2225966f613"
   },
   "outputs": [
    {
     "name": "stdout",
     "output_type": "stream",
     "text": [
      "90 ----- 34\n",
      "34 ----- 90\n"
     ]
    }
   ],
   "source": [
    "# swaping is as easy as this\n",
    "value1 =90 ; value2 =34\n",
    "print(value1,'-----',value2)\n",
    "value1,value2 = value2,value1\n",
    "print(value1,'-----',value2)"
   ]
  },
  {
   "cell_type": "code",
   "execution_count": 12,
   "metadata": {
    "colab": {
     "base_uri": "https://localhost:8080/"
    },
    "executionInfo": {
     "elapsed": 533,
     "status": "ok",
     "timestamp": 1685430243720,
     "user": {
      "displayName": "KARNATI MOHAN",
      "userId": "16604712269571437600"
     },
     "user_tz": -330
    },
    "id": "BD_1eMrVPpZM",
    "outputId": "eeca4208-565f-4250-d348-43c3fd259990"
   },
   "outputs": [
    {
     "name": "stdout",
     "output_type": "stream",
     "text": [
      "Values of var, var1 are False and True\n"
     ]
    }
   ],
   "source": [
    "#Boolean variables\n",
    "var = not True\n",
    "var1 = True\n",
    "print(\"Values of var, var1 are \" + str(var) + \" and \" + str(var1))"
   ]
  },
  {
   "cell_type": "code",
   "execution_count": 13,
   "metadata": {
    "colab": {
     "base_uri": "https://localhost:8080/"
    },
    "executionInfo": {
     "elapsed": 521,
     "status": "ok",
     "timestamp": 1685430258440,
     "user": {
      "displayName": "KARNATI MOHAN",
      "userId": "16604712269571437600"
     },
     "user_tz": -330
    },
    "id": "a4jnvDPjVYsK",
    "outputId": "8325c9e3-c845-4542-d154-7adafdc96e7d"
   },
   "outputs": [
    {
     "name": "stdout",
     "output_type": "stream",
     "text": [
      "True\n"
     ]
    }
   ],
   "source": [
    "#comparison is also simple to implement\n",
    "x=2\n",
    "print(x>1)"
   ]
  },
  {
   "cell_type": "markdown",
   "metadata": {
    "id": "ND2qvK_qV0T1"
   },
   "source": [
    "<font color='blue'>**IF...ELIF...ELSE Statements**</font>\n",
    "\n",
    "An if-else statement has the following syntax. \n",
    "\n",
    "<font color='blue'>**Syntax**</font>\n",
    "\n",
    "\n",
    "<font color='teal'>if expression:</font>\n",
    "\n",
    "> <font color='green'>statement(s)</font>\n",
    "\n",
    "\n",
    "<font color='teal'>else:</font>\n",
    "\n",
    "> <font color='green'>statement(s)</font>"
   ]
  },
  {
   "cell_type": "code",
   "execution_count": 14,
   "metadata": {
    "colab": {
     "base_uri": "https://localhost:8080/"
    },
    "executionInfo": {
     "elapsed": 945,
     "status": "ok",
     "timestamp": 1685430285498,
     "user": {
      "displayName": "KARNATI MOHAN",
      "userId": "16604712269571437600"
     },
     "user_tz": -330
    },
    "id": "flo-b66xPpZS",
    "outputId": "d4b8db48-85f8-4f17-d6a9-f325405eca3d"
   },
   "outputs": [
    {
     "name": "stdout",
     "output_type": "stream",
     "text": [
      "else block\n"
     ]
    }
   ],
   "source": [
    "# If Else Conditioning in Python\n",
    "\n",
    "if(False == True):\n",
    "    print('if block')\n",
    "else:\n",
    "    print('else block')\n",
    "\n",
    "# take a number as input from the user and check for \"even and odd\""
   ]
  },
  {
   "cell_type": "code",
   "execution_count": 15,
   "metadata": {
    "colab": {
     "base_uri": "https://localhost:8080/"
    },
    "executionInfo": {
     "elapsed": 4647,
     "status": "ok",
     "timestamp": 1685430302984,
     "user": {
      "displayName": "KARNATI MOHAN",
      "userId": "16604712269571437600"
     },
     "user_tz": -330
    },
    "id": "mC88cy4mPpZW",
    "outputId": "9adac7d9-33d8-4473-c34f-6a8c013053b8"
   },
   "outputs": [
    {
     "ename": "ValueError",
     "evalue": "invalid literal for int() with base 10: ''",
     "output_type": "error",
     "traceback": [
      "\u001b[1;31m---------------------------------------------------------------------------\u001b[0m",
      "\u001b[1;31mValueError\u001b[0m                                Traceback (most recent call last)",
      "Cell \u001b[1;32mIn[15], line 3\u001b[0m\n\u001b[0;32m      1\u001b[0m \u001b[38;5;66;03m# If else ladder\u001b[39;00m\n\u001b[0;32m      2\u001b[0m num \u001b[38;5;241m=\u001b[39m \u001b[38;5;28minput\u001b[39m(\u001b[38;5;124m\"\u001b[39m\u001b[38;5;124mnumber: \u001b[39m\u001b[38;5;124m\"\u001b[39m)\n\u001b[1;32m----> 3\u001b[0m \u001b[38;5;28;01mif\u001b[39;00m \u001b[38;5;28;43mint\u001b[39;49m\u001b[43m(\u001b[49m\u001b[43mnum\u001b[49m\u001b[43m)\u001b[49m \u001b[38;5;241m>\u001b[39m \u001b[38;5;241m0\u001b[39m:\n\u001b[0;32m      4\u001b[0m     \u001b[38;5;28mprint\u001b[39m(\u001b[38;5;124m\"\u001b[39m\u001b[38;5;124mPositive number\u001b[39m\u001b[38;5;124m\"\u001b[39m)\n\u001b[0;32m      5\u001b[0m \u001b[38;5;28;01melif\u001b[39;00m \u001b[38;5;28mint\u001b[39m(num) \u001b[38;5;241m==\u001b[39m \u001b[38;5;241m0\u001b[39m:\n",
      "\u001b[1;31mValueError\u001b[0m: invalid literal for int() with base 10: ''"
     ]
    }
   ],
   "source": [
    "# If else ladder\n",
    "num = input(\"number: \")\n",
    "if int(num) > 0:\n",
    "    print(\"Positive number\")\n",
    "elif int(num) == 0:\n",
    "    print(\"Zero\")\n",
    "else:\n",
    "    print(\"Negative number\")"
   ]
  },
  {
   "cell_type": "markdown",
   "metadata": {
    "id": "gpMzF1wuW71N"
   },
   "source": [
    "###<font color='blue'>**Loops**</font>\n",
    "\n",
    "**The for loop works as follows.**\n"
   ]
  },
  {
   "cell_type": "code",
   "execution_count": null,
   "metadata": {
    "colab": {
     "base_uri": "https://localhost:8080/"
    },
    "executionInfo": {
     "elapsed": 734,
     "status": "ok",
     "timestamp": 1685430318191,
     "user": {
      "displayName": "KARNATI MOHAN",
      "userId": "16604712269571437600"
     },
     "user_tz": -330
    },
    "id": "7Y0Ybrb6XxLi",
    "outputId": "c6f1f943-3852-4081-b9e9-7885f5081f6c",
    "scrolled": true
   },
   "outputs": [],
   "source": [
    "numbers = [1,10,20,30,40,50]\n",
    "sum = 0\n",
    "for number in numbers:\n",
    "    sum = sum + number\n",
    "print(sum)"
   ]
  },
  {
   "cell_type": "markdown",
   "metadata": {
    "id": "0Z_Oh6kEeQBB"
   },
   "source": [
    "##<font color='blue'>**Important note: Python is indent sensitive.**</font>\n",
    "\n",
    "* In addition to being case sensitive, Python is indent sensitive.\n",
    "\n",
    "* If you observe the 'for loop' and the 'if-else' statement, there is indent within the loop. \n",
    "\n",
    "* For example if you run the following code, it will show \"IndentationError\". \n",
    "\n",
    "* Run the cell to see the error and correct the code by putting indent. "
   ]
  },
  {
   "cell_type": "code",
   "execution_count": null,
   "metadata": {
    "colab": {
     "base_uri": "https://localhost:8080/"
    },
    "executionInfo": {
     "elapsed": 425,
     "status": "ok",
     "timestamp": 1685430345558,
     "user": {
      "displayName": "KARNATI MOHAN",
      "userId": "16604712269571437600"
     },
     "user_tz": -330
    },
    "id": "y2aTBxhreQBB",
    "outputId": "468b7f4e-d688-4d1d-8cbc-fc56c9c03488"
   },
   "outputs": [],
   "source": [
    "for number in [1,10,20,30,40,50]:\n",
    "  print(number,\"\\n\")"
   ]
  },
  {
   "cell_type": "markdown",
   "metadata": {
    "id": "8VpnK0ZNeQBE"
   },
   "source": [
    "**for loop using range()**"
   ]
  },
  {
   "cell_type": "code",
   "execution_count": null,
   "metadata": {
    "colab": {
     "base_uri": "https://localhost:8080/"
    },
    "executionInfo": {
     "elapsed": 1016,
     "status": "ok",
     "timestamp": 1685430366136,
     "user": {
      "displayName": "KARNATI MOHAN",
      "userId": "16604712269571437600"
     },
     "user_tz": -330
    },
    "id": "2GqhYT9VYfm0",
    "outputId": "2084e1aa-ee0a-4b50-d2f1-91413577ceb3",
    "scrolled": true
   },
   "outputs": [],
   "source": [
    "for i in range(1,10):\n",
    "    print(i)"
   ]
  },
  {
   "cell_type": "code",
   "execution_count": null,
   "metadata": {
    "colab": {
     "base_uri": "https://localhost:8080/"
    },
    "executionInfo": {
     "elapsed": 1050,
     "status": "ok",
     "timestamp": 1685430383365,
     "user": {
      "displayName": "KARNATI MOHAN",
      "userId": "16604712269571437600"
     },
     "user_tz": -330
    },
    "id": "AKeTIklSPpZm",
    "outputId": "87f46fbc-ea67-4701-be90-c253d50416e3"
   },
   "outputs": [],
   "source": [
    "# while loop in python;\n",
    "value = 4\n",
    "while value<10:\n",
    "    print(value)\n",
    "    value+=1"
   ]
  },
  {
   "cell_type": "code",
   "execution_count": null,
   "metadata": {
    "colab": {
     "base_uri": "https://localhost:8080/"
    },
    "executionInfo": {
     "elapsed": 1229,
     "status": "ok",
     "timestamp": 1685430422206,
     "user": {
      "displayName": "KARNATI MOHAN",
      "userId": "16604712269571437600"
     },
     "user_tz": -330
    },
    "id": "RXaWAYN_PpZv",
    "outputId": "43526397-7383-47fe-a74e-69dc0a195bfd"
   },
   "outputs": [],
   "source": [
    "# Strings in python\n",
    "\n",
    "var1 = 'testing'\n",
    "var2 = \"I am running\"\n",
    "var3 = \"Hello! \"\n",
    "\n",
    "print (\"var1[0:3]: \", var1[0:3])\n",
    "print (\"var2[1:6]: >\", var2[1:6],\"<\")\n",
    "\n",
    "#print the string var3 four times\n",
    "print(var3*4)"
   ]
  },
  {
   "cell_type": "markdown",
   "metadata": {
    "id": "u6EY64VvuhAL"
   },
   "source": [
    "##<font color='blue'>**List in Python**</font>\n",
    "\n",
    "Python offers a range of compound datatypes often referred to as sequences. \n",
    "\n",
    "List is one of the most frequently used datatypes used in Python.\n",
    "\n",
    "* A list is created by placing all the items (elements) inside a square bracket [ ], separated by commas.\n",
    "* It can have any number of items and they may be of different types (integer, float, string etc.).\n",
    "\n",
    "**Accessing the elements of the list**\n",
    "\n",
    "You can use the index operator [ ] to access an item in a list. Index starts from 0. So, a list having 5 elements will have indices ranging from 0 to 4."
   ]
  },
  {
   "cell_type": "code",
   "execution_count": null,
   "metadata": {
    "colab": {
     "base_uri": "https://localhost:8080/"
    },
    "executionInfo": {
     "elapsed": 530,
     "status": "ok",
     "timestamp": 1685430489175,
     "user": {
      "displayName": "KARNATI MOHAN",
      "userId": "16604712269571437600"
     },
     "user_tz": -330
    },
    "id": "6Vlfl3QZvHz4",
    "outputId": "78659ca8-9f3c-416b-a583-d53af539f3c3"
   },
   "outputs": [],
   "source": [
    "# empty list\n",
    "my_list = []\n",
    "print(my_list)\n",
    "# list of integers\n",
    "my_list = [1, 2, 3]\n",
    "print(my_list)\n",
    "# list with mixed datatypes\n",
    "my_list = [1, \"Deep Learning Technologies\", 2.5]\n",
    "print(my_list)"
   ]
  },
  {
   "cell_type": "code",
   "execution_count": null,
   "metadata": {
    "colab": {
     "base_uri": "https://localhost:8080/"
    },
    "executionInfo": {
     "elapsed": 628,
     "status": "ok",
     "timestamp": 1685430497104,
     "user": {
      "displayName": "KARNATI MOHAN",
      "userId": "16604712269571437600"
     },
     "user_tz": -330
    },
    "id": "iBegvRLMPpZ9",
    "outputId": "7c53faf4-a671-46f8-963c-973018563f6e",
    "scrolled": true
   },
   "outputs": [],
   "source": [
    "# List in python.......\n",
    "list = [ 'ABC', 1234 , 2.34, 'Aditya', 71.2 ]\n",
    "tinylist = [123, 'john']\n",
    "\n",
    "# Check the output of each print statement\n",
    "print (list)\n",
    "print (list[-2])\n",
    "print (list[1:3])\n",
    "print (list[2:])\n",
    "print (tinylist * 2)\n",
    "print (list + tinylist)"
   ]
  },
  {
   "cell_type": "code",
   "execution_count": null,
   "metadata": {
    "colab": {
     "base_uri": "https://localhost:8080/"
    },
    "executionInfo": {
     "elapsed": 1015,
     "status": "ok",
     "timestamp": 1685430536701,
     "user": {
      "displayName": "KARNATI MOHAN",
      "userId": "16604712269571437600"
     },
     "user_tz": -330
    },
    "id": "Vt5qpE3aPpaB",
    "outputId": "4ad7b0a7-6492-4f5b-9c71-4142ac6576a8"
   },
   "outputs": [],
   "source": [
    "# Deleting and Entry from the list\n",
    "\n",
    "list1 = ['Deep Learning', 'Technologies', 11, 15]\n",
    "\n",
    "print (list1)\n",
    "del list1[2]\n",
    "print (\"After deleting value at index 2 : \", list1)"
   ]
  },
  {
   "cell_type": "code",
   "execution_count": null,
   "metadata": {
    "colab": {
     "base_uri": "https://localhost:8080/"
    },
    "executionInfo": {
     "elapsed": 621,
     "status": "ok",
     "timestamp": 1685377705683,
     "user": {
      "displayName": "KARNATI MOHAN",
      "userId": "16604712269571437600"
     },
     "user_tz": -330
    },
    "id": "GlOGIZ_GeQBr",
    "outputId": "5efa0354-669d-4aad-bb7b-50f8ae330e3d"
   },
   "outputs": [],
   "source": [
    "# Merging two lists\n",
    "\n",
    "a1 = [1,2,3,4,5,9]\n",
    "a2 = [2,4,512,1,3]\n",
    "a3 = ['Aditya', 'Ronit', 'Vikrant']\n",
    "print(a1+a2+a3)"
   ]
  },
  {
   "cell_type": "markdown",
   "metadata": {
    "id": "uKLUQmlBwLMZ"
   },
   "source": [
    "##<font color='blue'>**NumPy**</font>\n",
    "\n",
    "**NumPy is a general-purpose fundamental package for scientific computing with Python. It contains various features including these important ones:**\n",
    "\n",
    ">A powerful N-dimensional array object\n",
    "\n",
    ">Sophisticated (broadcasting) functions\n",
    "\n",
    ">Tools for integrating C/C++ and Fortran code\n",
    "\n",
    ">Useful linear algebra, Fourier transform, and random number capabilities\n",
    "\n",
    "**Besides its obvious scientific uses, NumPy can also be used as an efficient multi-dimensional container of generic data. This allows NumPy to seamlessly and speedily integrate with a wide variety of databases.**\n",
    "\n",
    " * Source: Official website of NumPy (www.numpy.org) \n",
    " \n",
    "**Let us consider some examples to understand this powerful package.** \n",
    " "
   ]
  },
  {
   "cell_type": "code",
   "execution_count": null,
   "metadata": {
    "colab": {
     "base_uri": "https://localhost:8080/"
    },
    "executionInfo": {
     "elapsed": 722,
     "status": "ok",
     "timestamp": 1685377933421,
     "user": {
      "displayName": "KARNATI MOHAN",
      "userId": "16604712269571437600"
     },
     "user_tz": -330
    },
    "id": "z95joecvPpaO",
    "outputId": "463adda3-bf6e-469d-f6c4-e9788a666c33"
   },
   "outputs": [],
   "source": [
    "# First you need to import the NumPy Library\n",
    "\n",
    "import numpy as np\n",
    "\n",
    "b1 = np.array([1,2,3,5,5])    #Declaring a NumPy Array\n",
    "b2 = np.array([4,5,6,7,7])\n",
    "\n",
    "print(b1+b2)\n",
    "\n",
    "print(b2 * 3)\n",
    "print(\"No. of dimensions: \", b1.ndim)  # Rows in array, considered as a matrix.\n",
    "# Printing shape of array\n",
    "print(\"Shape of array: \", b1.shape)  # Dimension\n",
    "\n",
    "# Printing size (total number of elements) of array\n",
    "print(\"Size of array: \", b1.size) # elements in a row or column elements.\n",
    "\n",
    "# Printing the datatype of elements in array\n",
    "print(\"Array stores elements of type: \", b1.dtype)\n"
   ]
  },
  {
   "cell_type": "markdown",
   "metadata": {
    "id": "qDrpACaj11fA"
   },
   "source": [
    " ## <font color='blue'>**Operations on Arrays**</font>\n",
    "**Array creation:**\n",
    "You can create arrays in NumPy in various ways.\n",
    "\n",
    "For example, you can create an array from a regular Python list or tuple using the array function. \n",
    "\n",
    "The type of the resulting array is deduced from the type of the elements in the sequences. \n",
    "\n",
    "Often, we need to declare arrays whose sizes are known but elements are initially unknown. Hence, NumPy offers many functions to create arrays with initial placeholder content. This minimizes the necessity of growing arrays, which is generally an expensive operation.\n",
    " * Examples: *np.zeros, np.ones, np.full, np.empty*, etc.\n",
    "\n",
    "To create sequences of numbers, NumPy provides a function analogous to range that returns arrays instead of lists.\n",
    "\n",
    "**arange:** returns evenly spaced values within a given interval. In this, step size is specified.\n",
    "\n",
    "**linspace:** returns evenly spaced values within a given interval. Number of elements are returned.\n",
    "\n",
    "**Reshaping array:** The reshape method is used to reshape an array. If you have an array (a1, a2, a3, …, aN) and you want to reshape and convert it into another array of shape (b1, b2, b3, …, bM), you can do it easily using the reshape method. But the only precondition is that \n",
    "a1 x a2 x a3 … x aN = b1 x b2 x b3 … x bM . (i.e. , the total number of elements in the array should be the same, or the original size of array should remain unchanged.)\n",
    "\n",
    "**Flatten array:** The flatten method is used to convert an array  into one dimension. It accepts order argument. Default value is ‘C’ (for row-major order), and you can use ‘F’ to use the flatten method for column major order.\n",
    "\n",
    "* Let us see some examples. "
   ]
  },
  {
   "cell_type": "code",
   "execution_count": null,
   "metadata": {
    "id": "6hXzlX6WPpaV"
   },
   "outputs": [],
   "source": [
    "# array creation\n",
    "import numpy as np\n",
    "\n",
    "# Creating array from a list with type float\n",
    "A = np.array([[1, 2, 4], [5, 8, 7]], dtype = 'float')\n",
    "\n",
    "# Create a 3X4 array with all zeros. Please note, we have used double paranthesis.\n",
    "B = np.zeros((3, 4))\n",
    "\n",
    "# Create an arrary of complex numbers\n",
    "C = np.full((3, 3), 6, dtype = 'complex')\n",
    "\n",
    "# Create an array with random values\n",
    "# np.random.seed(1) # A seed is set to ensure that the results are consistent if you use this array in future computations also.\n",
    "\n",
    "D = np.random.randn(2, 2)\n",
    "\n",
    "E = np.random.random((2, 2))  # Exercise : Find out the difference between D and E"
   ]
  },
  {
   "cell_type": "code",
   "execution_count": null,
   "metadata": {
    "colab": {
     "base_uri": "https://localhost:8080/"
    },
    "executionInfo": {
     "elapsed": 1525,
     "status": "ok",
     "timestamp": 1685430873967,
     "user": {
      "displayName": "KARNATI MOHAN",
      "userId": "16604712269571437600"
     },
     "user_tz": -330
    },
    "id": "EhK_wWNY39RP",
    "outputId": "d92d1ca1-2221-466c-f1e3-c9b6545dce83"
   },
   "outputs": [],
   "source": [
    "print (\"Array created using passed list:\\n\", A)\n",
    "\n",
    "print (\"\\nAn array initialized with all zeros:\\n\", B)\n",
    "\n",
    "print (\"\\nAn array initialized with all 6s.\"\n",
    "            \"Array type is complex:\\n\", C)\n",
    "\n",
    "print (\"\\nA random array:\\n\", D)\n",
    "\n",
    "print (\"\\nAnother random array:\\n\", E)"
   ]
  },
  {
   "cell_type": "markdown",
   "metadata": {
    "id": "-bH4XnDteQCN"
   },
   "source": [
    "## <font color='blue'>**Array Reshaping**</font>"
   ]
  },
  {
   "cell_type": "code",
   "execution_count": null,
   "metadata": {
    "colab": {
     "base_uri": "https://localhost:8080/"
    },
    "executionInfo": {
     "elapsed": 496,
     "status": "ok",
     "timestamp": 1685431111169,
     "user": {
      "displayName": "KARNATI MOHAN",
      "userId": "16604712269571437600"
     },
     "user_tz": -330
    },
    "id": "VuNoibm44Gu5",
    "outputId": "4cc3746d-efbe-44b8-e3b9-e0e2db9c34d5"
   },
   "outputs": [],
   "source": [
    "# Reshaping 3X4 array to 2X2X3 array\n",
    "A = np.array([[1, 2, 3, 4],\n",
    "                [5, 6, 7, 8],\n",
    "                [9, 1, 2, 3]])\n",
    "\n",
    "new_A = A.reshape(2, 2, 3)\n",
    "\n",
    "# Flatten array\n",
    "B = np.array([[1, 2, 3], [4, 5, 6]])\n",
    "flat_B= B.flatten()\n",
    "# column_flat_B('C')\n",
    "\n",
    "print (\"\\nOriginal array:\\n\", A)\n",
    "print (\"Reshaped array:\\n\", new_A)\n",
    "print (\"\\nOriginal array:\\n\", B)\n",
    "print (\"Fattened array:\\n\", flat_B)\n",
    "#print (\"Column Fattened array:\\n\", column_flat_B)"
   ]
  },
  {
   "cell_type": "markdown",
   "metadata": {
    "id": "Pqq3v2B78tYb"
   },
   "source": [
    "## <font color='blue'>**Functions in Python**</font>\n",
    "\n",
    "Just as in C, Python also provides various types of functions. It gives you many built-in functions like print(), etc. but you can also create your own functions. These functions are called *user-defined functions.* \n",
    "\n",
    "In the following some simple examples of functions are given. \n",
    "\n"
   ]
  },
  {
   "cell_type": "code",
   "execution_count": null,
   "metadata": {
    "colab": {
     "base_uri": "https://localhost:8080/"
    },
    "executionInfo": {
     "elapsed": 834,
     "status": "ok",
     "timestamp": 1685431213741,
     "user": {
      "displayName": "KARNATI MOHAN",
      "userId": "16604712269571437600"
     },
     "user_tz": -330
    },
    "id": "OiZeq-iBAm1l",
    "outputId": "6532cf59-a437-42a7-a3c2-a8d5d8af9617",
    "scrolled": true
   },
   "outputs": [],
   "source": [
    "# Function definition\n",
    "def printstr(str):\n",
    "   print(str)\n",
    "   return;\n",
    "\n",
    "# Now you can call printstr function\n",
    "printstr(\"Calling a user defined function!\")\n",
    "printstr(\"Again calling the function\")"
   ]
  },
  {
   "cell_type": "markdown",
   "metadata": {
    "id": "NByQWMuPDdJO"
   },
   "source": [
    "## <font color='blue'>**Dictionary in Python**</font>\n",
    "\n",
    "As given in ( https://docs.python.org/3/tutorial/datastructures.html ) : \n",
    "\n",
    "\n",
    "\"Dictionary is a useful data type built into Python, similar to “associative memories” or “associative arrays” in some languages. A dictionary is indexed by keys, Unlike a sequence, which is indexed by a range of numbers.  A Key can be any immutable type, strings and numbers can always be keys. \n",
    "\n",
    "So a dictionary can be considered as an unordered set of key: value pairs, with the requirement that the keys are unique (within one dictionary). Each key is separated from its value by a colon (:), the items are separated by commas, and the entire unordered ke:value pair in enclosed within curly braces. \n",
    "\n",
    "A dictionary can be initialized to be an empty dictionary by using a pair of braces : {}. Placing a comma-separated list of key:value pairs within the braces adds initial key:value pairs to the dictionary; this is also the way dictionaries are written on output.\n",
    "\n",
    "Tuples can be used as keys if they contain only strings, numbers, or tuples; if a tuple contains any mutable object either directly or indirectly, it cannot be used as a key. You can’t use lists as keys, since lists can be modified in place using index assignments, slice assignments, or methods like append() and extend().\n",
    "\n",
    "* The main operations on a dictionary are storing a value with some key and extracting the value given the key. \n",
    "\n",
    "* To delete a key:value pair you can use 'del'. If you store a value using a key that is already in use, then the old value associated with that key is overwritten. \n",
    "* Use list(d.keys()) to obtain a list of all the keys used in the dictionary, in arbitrary order.\n",
    "* Use sorted(d.keys())  if you wanted it to be in a sorted order.  \n",
    "* To check whether a single key is in the dictionary, use the 'in' keyword.\n",
    "\n",
    "Here are some examples of code pieces using dictionaries:\n"
   ]
  },
  {
   "cell_type": "code",
   "execution_count": null,
   "metadata": {
    "colab": {
     "base_uri": "https://localhost:8080/"
    },
    "executionInfo": {
     "elapsed": 929,
     "status": "ok",
     "timestamp": 1685381132737,
     "user": {
      "displayName": "KARNATI MOHAN",
      "userId": "16604712269571437600"
     },
     "user_tz": -330
    },
    "id": "plKR48c5Ppak",
    "outputId": "f56300d1-7d38-453c-9cf8-369910bff7f2"
   },
   "outputs": [],
   "source": [
    "# Dictionary\n",
    "dict = {'Name': 'Zara', 'Age': 7, 'Class': 'First'}\n",
    "print (\"dict['Name']: \", dict['Name'])\n",
    "print (\"dict['Age']: \", dict['Age'])"
   ]
  },
  {
   "cell_type": "markdown",
   "metadata": {
    "id": "Kjjd49iyeQCk"
   },
   "source": [
    "**You can try making your own dictionary in the following cell.** "
   ]
  },
  {
   "cell_type": "code",
   "execution_count": null,
   "metadata": {
    "colab": {
     "base_uri": "https://localhost:8080/"
    },
    "executionInfo": {
     "elapsed": 721,
     "status": "ok",
     "timestamp": 1685381157414,
     "user": {
      "displayName": "KARNATI MOHAN",
      "userId": "16604712269571437600"
     },
     "user_tz": -330
    },
    "id": "SZJzOvbEPpar",
    "outputId": "aeb854bc-b55a-43e9-e4d7-d654acbacd49"
   },
   "outputs": [],
   "source": [
    "# create a dictionary of 5 students as follows:   [roll-no: Semester Performance Index]\n",
    "# print the data\n",
    "Student= {1:75, 2: 68, 3: 89, 4: 94, 5:54 }\n",
    "del Student[1]\n",
    "print(Student)"
   ]
  },
  {
   "cell_type": "markdown",
   "metadata": {
    "id": "MZ6oW50OY5VM"
   },
   "source": [
    "## <font color='blue'>**Using matplotlib**</font>\n",
    "Matplotlib is a Python 2D plotting library which produces publication quality figures in a variety of hardcopy formats and interactive environments across platforms. Matplotlib can be used in Python scripts, the Python and IPython shells, the Jupyter notebook, web application servers, and four graphical user interface toolkits ( source: https://matplotlib.org/ , https://matplotlib.org/citing.html) \n",
    "\n",
    "Here we give a simple example of its use. "
   ]
  },
  {
   "cell_type": "code",
   "execution_count": null,
   "metadata": {
    "colab": {
     "base_uri": "https://localhost:8080/",
     "height": 430
    },
    "executionInfo": {
     "elapsed": 12,
     "status": "ok",
     "timestamp": 1685381215694,
     "user": {
      "displayName": "KARNATI MOHAN",
      "userId": "16604712269571437600"
     },
     "user_tz": -330
    },
    "id": "QgBjCvjDMwux",
    "outputId": "a8328926-a9bc-49a6-cffa-85035f21de4c"
   },
   "outputs": [],
   "source": [
    "# simple plotting\n",
    "# Here, we are demonstrating the growth in GDP of China and America over a peroid of time\n",
    "\n",
    "\n",
    "from matplotlib import pyplot as plt\n",
    "\n",
    "years = [1950, 1960, 1970, 1980, 1990, 2000, 2010]\n",
    "America_gdp = [300.2, 543.3, 1075.9, 2862.5, 5979.6, 10289.7, 14958.3]\n",
    "China_gdp = [30.2, 240.3, 675.9, 1262.5, 3579.6, 7089.7, 10958.3]\n",
    "\n",
    "plt.plot(years, America_gdp, color='blue', marker='*', linestyle='solid')\n",
    "plt.plot(years, China_gdp, color='red', marker='o', linestyle='solid')\n",
    "\n",
    "plt.show()\n"
   ]
  },
  {
   "cell_type": "markdown",
   "metadata": {
    "id": "VXwaPxlceQCy"
   },
   "source": [
    "## <font color='blue'>**Using Images**</font>"
   ]
  },
  {
   "cell_type": "code",
   "execution_count": null,
   "metadata": {
    "colab": {
     "base_uri": "https://localhost:8080/"
    },
    "executionInfo": {
     "elapsed": 30924,
     "status": "ok",
     "timestamp": 1685431560927,
     "user": {
      "displayName": "KARNATI MOHAN",
      "userId": "16604712269571437600"
     },
     "user_tz": -330
    },
    "id": "hCSI7SHQjh3v",
    "outputId": "f7450612-9ba5-422f-ba82-a1f04dbe96cc"
   },
   "outputs": [],
   "source": [
    "from google.colab import drive\n",
    "drive.mount('/content/drive')"
   ]
  },
  {
   "cell_type": "code",
   "execution_count": null,
   "metadata": {
    "colab": {
     "base_uri": "https://localhost:8080/",
     "height": 403
    },
    "executionInfo": {
     "elapsed": 2883,
     "status": "ok",
     "timestamp": 1685431658650,
     "user": {
      "displayName": "KARNATI MOHAN",
      "userId": "16604712269571437600"
     },
     "user_tz": -330
    },
    "id": "_2USkUVOeQCy",
    "outputId": "1c9d1762-cf27-45a4-a298-04081401dc04"
   },
   "outputs": [],
   "source": [
    "import matplotlib.pyplot as plt\n",
    "import matplotlib.image as mpimg\n",
    "img=mpimg.imread('/content/drive/MyDrive/AMITY/STUDENT_BOOTCAMP/Data/University.jpeg')\n",
    "imgplot = plt.imshow(img)\n",
    "plt.show()"
   ]
  },
  {
   "cell_type": "markdown",
   "metadata": {
    "id": "XIIs5-duiP6N"
   },
   "source": [
    "**Tutorial by Karnati Mohan, Assistant Professor, Deep Learning Technologies -2023, Amity Center For Artificial Intelligence, Amity University, Noida.**\n",
    "\n",
    "**Support of Ayush Singh Rajput and Mayank Chaudhary, AI Engineer, Amity Center For Artificial Intelligence, Amity University, Noida is acknowledged.** "
   ]
  },
  {
   "cell_type": "code",
   "execution_count": null,
   "metadata": {
    "id": "BbMpHPuxiP6N"
   },
   "outputs": [],
   "source": [
    "from numpy import *"
   ]
  },
  {
   "cell_type": "code",
   "execution_count": null,
   "metadata": {
    "id": "mGbb1AyelbVL"
   },
   "outputs": [],
   "source": []
  }
 ],
 "metadata": {
  "accelerator": "GPU",
  "colab": {
   "gpuType": "T4",
   "provenance": [
    {
     "file_id": "1JuAqqAfTyoQculyr5w0jEzL9_XVyFmIp",
     "timestamp": 1685598910338
    }
   ]
  },
  "kernelspec": {
   "display_name": "Python 3 (ipykernel)",
   "language": "python",
   "name": "python3"
  },
  "language_info": {
   "codemirror_mode": {
    "name": "ipython",
    "version": 3
   },
   "file_extension": ".py",
   "mimetype": "text/x-python",
   "name": "python",
   "nbconvert_exporter": "python",
   "pygments_lexer": "ipython3",
   "version": "3.12.1"
  }
 },
 "nbformat": 4,
 "nbformat_minor": 4
}
