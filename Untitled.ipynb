{
 "cells": [
  {
   "cell_type": "code",
   "execution_count": null,
   "id": "3cc146ea",
   "metadata": {},
   "outputs": [],
   "source": [
    "import pandas as pd\n",
    "import numpy as np\n",
    "import random\n",
    "from sklearn.preprocessing import MinMaxScaler\n",
    "from sklearn.preprocessing import LabelEncoder"
   ]
  },
  {
   "cell_type": "code",
   "execution_count": null,
   "id": "8a6e6f5c",
   "metadata": {},
   "outputs": [],
   "source": [
    "data = {\n",
    "    'age':[random.randint(20,60) for _ in range (100)],\n",
    "    'gender':[random.choice(['Male', 'Female'])for _ in range(100)],\n",
    "    'income':[random.randint(20000,100000) for _ in range(100)]\n",
    "}\n",
    "df = pd.DataFrame(data)\n",
    "df.to_csv('data.csv', index=False)"
   ]
  },
  {
   "cell_type": "code",
   "execution_count": null,
   "id": "ae5fe2af",
   "metadata": {},
   "outputs": [],
   "source": [
    "data=pd.read_csv('data.csv')\n",
    "data.head(20) #head gives 1st 5 reading by default, here it will give 20"
   ]
  },
  {
   "cell_type": "code",
   "execution_count": null,
   "id": "044ae8d3",
   "metadata": {},
   "outputs": [],
   "source": [
    "data.isnull().sum()\n",
    "#tells number of null values in each column\n",
    "\n",
    "#data.dropna(how='any',inplace = True)\n",
    "#above line removes rows with 1 or more null values"
   ]
  },
  {
   "cell_type": "code",
   "execution_count": null,
   "id": "e156ecab",
   "metadata": {},
   "outputs": [],
   "source": [
    "data.shape\n",
    "#used to check shape of data"
   ]
  },
  {
   "cell_type": "code",
   "execution_count": null,
   "id": "3ed372d9",
   "metadata": {},
   "outputs": [],
   "source": [
    "#Label Encoding of gender\n",
    "le=LabelEncoder()\n",
    "data[['gender']]=data[['gender']].apply(le.fit_transform)\n",
    "data.head(20)"
   ]
  },
  {
   "cell_type": "code",
   "execution_count": null,
   "id": "9f235c67",
   "metadata": {},
   "outputs": [],
   "source": [
    "#separating label from data\n",
    "y=data[\"gender\"]\n",
    "x=data.drop([\"gender\"], axis=1)\n",
    "print(x.shape)\n",
    "print(y.shape)"
   ]
  },
  {
   "cell_type": "code",
   "execution_count": null,
   "id": "610358bc",
   "metadata": {},
   "outputs": [],
   "source": [
    "#split the data into training and testing data\n",
    "from sklearn.model_selection import train_test_split\n",
    "x_train, x_test, y_train, y_test=train_test_split(x,y,test_size=0.3, random_state=2)\n",
    "#0.3 test_size means 30% data will go to test and remaining 70% will be train\n",
    "#2 random_state means every 2nd data will be picked, this means we can recreate this random splitting next time as well by using random_state=2"
   ]
  },
  {
   "cell_type": "code",
   "execution_count": null,
   "id": "016511ce",
   "metadata": {},
   "outputs": [],
   "source": [
    "print('Shape of x_train is:', x_train.shape)\n",
    "print('Shape of x_test is:', x_test.shape)\n",
    "print('Shape of y_train is:', y_train.shape)\n",
    "print('Shape of y_test is:', y_test.shape)"
   ]
  },
  {
   "cell_type": "code",
   "execution_count": null,
   "id": "46816f1d",
   "metadata": {},
   "outputs": [],
   "source": [
    "from sklearn.preprocessing import StandardScaler\n",
    "sc = StandardScaler()\n",
    "x_train = sc.fit_transform(x_train)\n",
    "x_test = sc.transform(x_test)"
   ]
  },
  {
   "cell_type": "code",
   "execution_count": null,
   "id": "e2a339da",
   "metadata": {},
   "outputs": [],
   "source": [
    "print(x_train)"
   ]
  },
  {
   "cell_type": "code",
   "execution_count": null,
   "id": "79287788",
   "metadata": {},
   "outputs": [],
   "source": [
    "print(x_test)"
   ]
  },
  {
   "cell_type": "code",
   "execution_count": null,
   "id": "0192d966",
   "metadata": {},
   "outputs": [],
   "source": [
    "# Sequential model to initialize our ann and dense module to build the layers\n",
    "from keras.models import Sequential\n",
    "from keras.layers import Dense"
   ]
  },
  {
   "cell_type": "code",
   "execution_count": null,
   "id": "d7163b06",
   "metadata": {},
   "outputs": [],
   "source": [
    "classifier = Sequential()\n",
    "# Adding the input layer and the first hidden layer\n",
    "classifier.add(Dense(units = 8, kernel_initializer = 'uniform', activation = 'relu', input_dim = 2))\n",
    "\n",
    "# Adding the Second hidden layer\n",
    "classifier.add(Dense(units = 16, kernel_initializer = 'uniform', activation = 'relu'))\n",
    "\n",
    "# Adding the Third hidden layer\n",
    "classifier.add(Dense(units = 32, kernel_initializer = 'uniform', activation = 'relu'))\n",
    "\n",
    "# Adding the Output layer\n",
    "classifier.add(Dense(units = 1, kernel_initializer = 'uniform', activation = 'softmax'))"
   ]
  },
  {
   "cell_type": "code",
   "execution_count": null,
   "id": "fd02cf23",
   "metadata": {},
   "outputs": [],
   "source": [
    "classifier.compile(optimizer = 'adam', loss = 'categorical_crossentropy', metrics = ['accuracy'])\n",
    "\n",
    "# Fitting the ann to the training set\n",
    "classifier.fit(x_train, y_train, batch_size = 16, epochs = 50, verbose = 1) # type: ignore"
   ]
  },
  {
   "cell_type": "code",
   "execution_count": null,
   "id": "f72c6824",
   "metadata": {},
   "outputs": [],
   "source": []
  }
 ],
 "metadata": {
  "kernelspec": {
   "display_name": "Python 3 (ipykernel)",
   "language": "python",
   "name": "python3"
  },
  "language_info": {
   "codemirror_mode": {
    "name": "ipython",
    "version": 3
   },
   "file_extension": ".py",
   "mimetype": "text/x-python",
   "name": "python",
   "nbconvert_exporter": "python",
   "pygments_lexer": "ipython3",
   "version": "3.10.11"
  }
 },
 "nbformat": 4,
 "nbformat_minor": 5
}
